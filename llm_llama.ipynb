{
  "cells": [
    {
      "cell_type": "code",
      "execution_count": 1,
      "metadata": {
        "id": "m3m5msf5lEx2"
      },
      "outputs": [],
      "source": [
        "# Imports\n",
        "import torch\n",
        "from torch import nn\n",
        "from torch.nn import functional as F\n",
        "\n",
        "import numpy as np\n",
        "\n",
        "from matplotlib import pyplot as plt\n",
        "\n",
        "import time\n",
        "\n",
        "import pandas as pd\n",
        "\n",
        "import urllib.request\n",
        "\n",
        "from collections import OrderedDict"
      ]
    },
    {
      "cell_type": "code",
      "source": [
        "device = torch.device(\"cuda\" if torch.cuda.is_available() else \"cpu\")\n",
        "print(device)"
      ],
      "metadata": {
        "colab": {
          "base_uri": "https://localhost:8080/"
        },
        "id": "9ydXrYfUA3zJ",
        "outputId": "e8644712-42f5-480b-d6c7-c018f11c4551"
      },
      "execution_count": 2,
      "outputs": [
        {
          "output_type": "stream",
          "name": "stdout",
          "text": [
            "cuda\n"
          ]
        }
      ]
    },
    {
      "cell_type": "code",
      "source": [
        "# Model parameters\n",
        "MASTER_CONFIG = {\n",
        "    \"vocab_size\": 65,       # Number of unique characters in the dataset\n",
        "    \"batch_size\": 32,       # Number of batches\n",
        "    \"context_window\": 16,   # Number of characters in a batch\n",
        "    \"d_model\": 128,         # Dimension of linear layers\n",
        "    \"epochs\": 10_000,       # Number of training epochs\n",
        "    \"log_interval\": 100,    # Frequency of logging the loss in epochs\n",
        "    \"n_heads\": 8,           # Number of attention heads\n",
        "    \"n_layers\": 4           # Number of Llama layers\n",
        "}"
      ],
      "metadata": {
        "id": "VBCJ9JTTlJbi"
      },
      "execution_count": 3,
      "outputs": []
    },
    {
      "cell_type": "markdown",
      "source": [
        "# Data Preprocessing"
      ],
      "metadata": {
        "id": "hDzje7UalLRN"
      }
    },
    {
      "cell_type": "code",
      "source": [
        "# Tiny Shakespeare\n",
        "url = \"https://raw.githubusercontent.com/karpathy/char-rnn/master/data/tinyshakespeare/input.txt\"\n",
        "file_name = \"tinyshakespeare.txt\"\n",
        "urllib.request.urlretrieve(url, file_name)"
      ],
      "metadata": {
        "colab": {
          "base_uri": "https://localhost:8080/"
        },
        "id": "3n4ItxJ5lMGV",
        "outputId": "b43803f6-2364-41ed-ed98-1cba851a398a"
      },
      "execution_count": 4,
      "outputs": [
        {
          "output_type": "execute_result",
          "data": {
            "text/plain": [
              "('tinyshakespeare.txt', <http.client.HTTPMessage at 0x7e635016d1e0>)"
            ]
          },
          "metadata": {},
          "execution_count": 4
        }
      ]
    },
    {
      "cell_type": "code",
      "source": [
        "# Create vocab list of unique chars\n",
        "lines = open(\"tinyshakespeare.txt\", 'r').read()\n",
        "vocab = sorted(list(set(lines)))"
      ],
      "metadata": {
        "id": "Qbb_QEirlPHT"
      },
      "execution_count": 5,
      "outputs": []
    },
    {
      "cell_type": "code",
      "source": [
        "# Int to string\n",
        "itos = {i: ch for i, ch in enumerate(vocab)}\n",
        "\n",
        "# String to int\n",
        "stoi = {ch: i for i, ch in enumerate(vocab)}"
      ],
      "metadata": {
        "id": "fVWOD7M2lQqx"
      },
      "execution_count": 6,
      "outputs": []
    },
    {
      "cell_type": "code",
      "source": [
        "# Encoding and decoding\n",
        "def encode(s):\n",
        "    return [stoi[ch] for ch in s]\n",
        "\n",
        "def decode(l):\n",
        "    return ''.join([itos[i] for i in l])"
      ],
      "metadata": {
        "id": "7xxeMFullSah"
      },
      "execution_count": 7,
      "outputs": []
    },
    {
      "cell_type": "code",
      "source": [
        "# Convert dataset into a tensor\n",
        "dataset = torch.tensor(encode(lines), dtype=torch.int8, device=device)"
      ],
      "metadata": {
        "id": "GDwuDSKDlWnf"
      },
      "execution_count": 8,
      "outputs": []
    },
    {
      "cell_type": "code",
      "source": [
        "# Split dataset into train/val/test batches\n",
        "def get_batches(data, split, batch_size, context_window, config=MASTER_CONFIG):\n",
        "  # Train/val/test split = 0.8/0.1/0.1\n",
        "  train = data[:int(0.8 * len(data))]\n",
        "  val = data[int(0.8 * len(data)):int(0.9 * len(data))]\n",
        "  test = data[int(0.9 * len(data)):]\n",
        "\n",
        "  # Determine which batch to use\n",
        "  batch_data = train\n",
        "  if split == \"val\":\n",
        "    batch_data = val\n",
        "  elif split == \"test\":\n",
        "    batch_data = test\n",
        "\n",
        "  # batch_size number of random starting points in the data\n",
        "  ix = torch.randint(0, batch_data.size(0) - context_window - 1, (batch_size,))\n",
        "\n",
        "  # Input and target sequences\n",
        "  x = torch.stack([batch_data[i:i + context_window] for i in ix]).long()\n",
        "  y = torch.stack([batch_data[i + 1:i + context_window + 1] for i in ix]).long()\n",
        "\n",
        "  return x, y"
      ],
      "metadata": {
        "id": "V9-olP70lYU3"
      },
      "execution_count": 9,
      "outputs": []
    },
    {
      "cell_type": "markdown",
      "source": [
        "# Loss"
      ],
      "metadata": {
        "id": "jSn1oXjVla5c"
      }
    },
    {
      "cell_type": "code",
      "source": [
        "# Computes the mean loss for 10 batches for train/val\n",
        "@torch.no_grad()\n",
        "def evaluate_loss(model, config=MASTER_CONFIG):\n",
        "  out = {}\n",
        "\n",
        "  # Set the model to evaluation mode\n",
        "  model.eval()\n",
        "\n",
        "  # Iterate through train and val splits\n",
        "  for split in [\"train\", \"val\"]:\n",
        "    losses = []\n",
        "\n",
        "    # Get 10 sample batches\n",
        "    for _ in range(10):\n",
        "      # Input and target sequences\n",
        "      xb, yb = get_batches(dataset, split, config[\"batch_size\"], config[\"context_window\"])\n",
        "      # Run the model and calculate the loss\n",
        "      _, loss = model(xb, yb)\n",
        "      losses.append(loss.item())\n",
        "\n",
        "    out[split] = np.mean(losses)\n",
        "\n",
        "  # Set the model to train mode\n",
        "  model.train()\n",
        "\n",
        "  return out"
      ],
      "metadata": {
        "id": "Z0VujPjxlbdp"
      },
      "execution_count": 10,
      "outputs": []
    },
    {
      "cell_type": "markdown",
      "source": [
        "# Llama Model"
      ],
      "metadata": {
        "id": "dfuzrPk6ld6r"
      }
    },
    {
      "cell_type": "code",
      "source": [
        "class RMSNorm(nn.Module):\n",
        "  def __init__(self, layer_shape, eps=1e-8, bias=False):\n",
        "    super(RMSNorm, self).__init__()\n",
        "\n",
        "    # Register a learnable parameter \"scale\" as a part of the module\n",
        "    self.register_parameter(\"scale\", nn.Parameter(torch.ones(layer_shape)))\n",
        "\n",
        "  def forward(self, x):\n",
        "    # x: (batch, seq_len, d_model)\n",
        "\n",
        "    # Calculate Frobenius norm: RMS = 1/sqrt(N) * Frobenius norm\n",
        "    ff_rms = torch.linalg.norm(x, dim=(1, 2)) * x[0].numel() ** -0.5\n",
        "\n",
        "    # Normalize x with respect to RMS\n",
        "    raw = x / ff_rms.unsqueeze(-1).unsqueeze(-1)\n",
        "\n",
        "    # Scale the normalized tensor using the learnable parameter \"scale\"\n",
        "    return self.scale[:x.shape[1], :].unsqueeze(0) * raw"
      ],
      "metadata": {
        "id": "LHEVqscNl0Hq"
      },
      "execution_count": 11,
      "outputs": []
    },
    {
      "cell_type": "code",
      "source": [
        "def get_rotary_matrix(context_window, embedding_dim):\n",
        "    R = torch.zeros((context_window, embedding_dim, embedding_dim), requires_grad=False, device=device)\n",
        "\n",
        "    # Loop through each position in the context window\n",
        "    for position in range(context_window):\n",
        "      # Loop through each dimension in the embedding\n",
        "      for i in range(embedding_dim // 2):\n",
        "        # Calculate the rotation angle based on the position and embedding dimension\n",
        "        theta = 10_000 ** (-2 * (i - 1) / embedding_dim)\n",
        "        # Calculate the rotated matrix elements\n",
        "        m_theta = position * theta\n",
        "        R[position, 2 * i, 2 * i] = np.cos(m_theta)\n",
        "        R[position, 2 * i, 2 * i + 1] = -np.sin(m_theta)\n",
        "        R[position, 2 * i + 1, 2 * i] = np.sin(m_theta)\n",
        "        R[position, 2 * i + 1, 2 * i + 1] = np.cos(m_theta)\n",
        "\n",
        "    return R\n",
        "\n",
        "class RoPEMaskedAttentionHead(nn.Module):\n",
        "  def __init__(self, config):\n",
        "    super().__init__()\n",
        "    self.config = config\n",
        "\n",
        "    # Linear transformation for query\n",
        "    self.w_q = nn.Linear(config['d_model'], config['d_model'], bias=False)\n",
        "    # Linear transformation for key\n",
        "    self.w_k = nn.Linear(config['d_model'], config['d_model'], bias=False)\n",
        "    # Linear transformation for value\n",
        "    self.w_v = nn.Linear(config['d_model'], config['d_model'], bias=False)\n",
        "    # Obtain rotary matrix for positional embeddings\n",
        "    self.R = get_rotary_matrix(config['context_window'], config['d_model'])\n",
        "\n",
        "  def forward(self, x, return_attn_weights=False):\n",
        "    # x: (batch, seq_len, d_model)\n",
        "    b, m, d = x.shape\n",
        "\n",
        "    # Linear transformations for Q, K, and V\n",
        "    q = self.w_q(x)\n",
        "    k = self.w_k(x)\n",
        "    v = self.w_v(x)\n",
        "\n",
        "    # Rotate Q and K using the RoPE matrix\n",
        "    q_rotated = (torch.bmm(q.transpose(0, 1), self.R[:m])).transpose(0, 1)\n",
        "    k_rotated = (torch.bmm(k.transpose(0, 1), self.R[:m])).transpose(0, 1)\n",
        "\n",
        "    # Scaled dot-product attention\n",
        "    activations = F.scaled_dot_product_attention(q_rotated, k_rotated, v, dropout_p=0.1, is_causal=True)\n",
        "\n",
        "    # Return the attention weights\n",
        "    if return_attn_weights:\n",
        "      # Create causal attention mask\n",
        "      attn_mask = torch.tril(torch.ones((m, m)), diagonal=0)\n",
        "      # Calculate attention weights and add causal mask\n",
        "      attn_weights = torch.bmm(q_rotated, k_rotated.transpose(1, 2)) / np.sqrt(d) + attn_mask\n",
        "      attn_weights = F.softmax(attn_weights, dim=-1)\n",
        "      return activations, attn_weights\n",
        "\n",
        "    return activations"
      ],
      "metadata": {
        "id": "FOza2XT3rmkV"
      },
      "execution_count": 12,
      "outputs": []
    },
    {
      "cell_type": "code",
      "source": [
        "class RoPEMaskedMultiheadAttention(nn.Module):\n",
        "  def __init__(self, config):\n",
        "    super().__init__()\n",
        "    self.config = config\n",
        "\n",
        "    # RoPEMaskedAttentionHead instances as attention heads\n",
        "    self.heads = nn.ModuleList([RoPEMaskedAttentionHead(config) for _ in range(config[\"n_heads\"])])\n",
        "    # Linear layer after concatenating the heads\n",
        "    self.linear = nn.Linear(config[\"n_heads\"] * config[\"d_model\"], config[\"d_model\"])\n",
        "    # Dropout layer\n",
        "    self.dropout = nn.Dropout(0.1)\n",
        "\n",
        "  def forward(self, x):\n",
        "    # x: (batch, seq_len, d_model)\n",
        "\n",
        "    # Process each attention head and concatenate the results\n",
        "    heads = [h(x) for h in self.heads]\n",
        "    x = torch.cat(heads, dim=-1)\n",
        "    # Linear layer\n",
        "    x = self.linear(x)\n",
        "    # Dropout layer\n",
        "    x = self.dropout(x)\n",
        "\n",
        "    return x"
      ],
      "metadata": {
        "id": "tw7ob6kHyb3C"
      },
      "execution_count": 13,
      "outputs": []
    },
    {
      "cell_type": "code",
      "source": [
        "class SwiGLU(nn.Module):\n",
        "  def __init__(self, size):\n",
        "    super().__init__()\n",
        "\n",
        "    # Linear transformation for the gate mechanism\n",
        "    self.linear_gate = nn.Linear(size, size)\n",
        "    # Linear transformation for the main branch\n",
        "    self.linear = nn.Linear(size, size)\n",
        "    # Randomly init the beta parameter\n",
        "    self.beta = torch.randn(1, requires_grad=True)\n",
        "\n",
        "    # Register beta as a learnable parameter\n",
        "    self.beta = nn.Parameter(torch.ones(1))\n",
        "    self.register_parameter(\"beta\", self.beta)\n",
        "\n",
        "  def forward(self, x):\n",
        "    # Swish-Gated Linear Unit computation\n",
        "    swish_gate = self.linear_gate(x) * torch.sigmoid(self.beta * self.linear_gate(x))\n",
        "    # Element-wise multiplication between the gate and main branch\n",
        "    out = swish_gate * self.linear(x)\n",
        "\n",
        "    return out"
      ],
      "metadata": {
        "id": "9jRyJHtD2ont"
      },
      "execution_count": 14,
      "outputs": []
    },
    {
      "cell_type": "code",
      "source": [
        "class LlamaBlock(nn.Module):\n",
        "  def __init__(self, config):\n",
        "    super().__init__()\n",
        "    self.config = config\n",
        "\n",
        "    # RMSNorm layer for pre-normalization\n",
        "    self.rms = RMSNorm((config[\"context_window\"], config[\"d_model\"]))\n",
        "    # RoPEMaskedMultiheadAttention layer\n",
        "    self.attention = RoPEMaskedMultiheadAttention(config)\n",
        "    # Feedforward layer with SwiGLU activation\n",
        "    self.feedforward = nn.Sequential(\n",
        "        nn.Linear(config[\"d_model\"], config[\"d_model\"]),\n",
        "        SwiGLU(config['d_model'])\n",
        "    )\n",
        "\n",
        "  def forward(self, x):\n",
        "    # Attention block\n",
        "    x = self.rms(x)\n",
        "    x = x + self.attention(x)\n",
        "\n",
        "    # Linear block\n",
        "    x = self.rms(x)\n",
        "    x = x + self.feedforward(x)\n",
        "\n",
        "    return x"
      ],
      "metadata": {
        "id": "NnZ99ikd8IPQ"
      },
      "execution_count": 15,
      "outputs": []
    },
    {
      "cell_type": "code",
      "source": [
        "class Llama(nn.Module):\n",
        "  def __init__(self, config=MASTER_CONFIG):\n",
        "    super().__init__()\n",
        "    self.config = config\n",
        "\n",
        "    # Embedding layer to convert character indices to vectors\n",
        "    self.embedding = nn.Embedding(config[\"vocab_size\"], config[\"d_model\"])\n",
        "    # Sequential block of n_layers LlamaBlocks\n",
        "    self.llama_blocks = nn.Sequential(OrderedDict([(f\"llama_{i}\", LlamaBlock(config)) for i in range(config['n_layers'])]))\n",
        "    # Feedforward network for final output\n",
        "    self.ffn = nn.Sequential(\n",
        "        nn.Linear(config['d_model'], config['d_model']),\n",
        "        SwiGLU(config['d_model']),\n",
        "        nn.Linear(config['d_model'], config['vocab_size']),\n",
        "    )\n",
        "\n",
        "    print(\"# of params:\", sum(p.numel() for p in self.parameters()))\n",
        "\n",
        "  def forward(self, idx, targets=None):\n",
        "    # Embedding layer converts character indices to vectors\n",
        "    x = self.embedding(idx)\n",
        "\n",
        "    # Llama blocks\n",
        "    x = self.llama_blocks(x)\n",
        "    # Final feedforward network for output logits\n",
        "    logits = self.ffn(x)\n",
        "\n",
        "    # If there are targets, calculate and return the cross entropy loss\n",
        "    if targets is not None:\n",
        "      loss = F.cross_entropy(logits.view(-1, self.config[\"vocab_size\"]), targets.view(-1))\n",
        "      return logits, loss\n",
        "\n",
        "    return logits"
      ],
      "metadata": {
        "id": "Bisbawb6lfgd"
      },
      "execution_count": 16,
      "outputs": []
    },
    {
      "cell_type": "code",
      "source": [
        "# Training loop\n",
        "def train(model, optimizer, scheduler=None, config=MASTER_CONFIG, print_logs=False):\n",
        "  losses = []\n",
        "  start_time = time.time()\n",
        "\n",
        "  # Iterate through epochs\n",
        "  for epoch in range(config[\"epochs\"]):\n",
        "    # Zero out gradients\n",
        "    optimizer.zero_grad()\n",
        "\n",
        "    # Get training batches\n",
        "    xs, ys = get_batches(dataset, \"train\", config[\"batch_size\"], config[\"context_window\"])\n",
        "    # Run the model and calculate the loss\n",
        "    logits, loss = model(xs, targets=ys)\n",
        "    # Backpropagate the loss\n",
        "    loss.backward()\n",
        "    # Step the optimizer\n",
        "    optimizer.step()\n",
        "\n",
        "    # If there's a learning rate scheduler, adjust the learning rate\n",
        "    if scheduler:\n",
        "      scheduler.step()\n",
        "\n",
        "    # Log progress\n",
        "    if epoch % config[\"log_interval\"] == 0:\n",
        "      # Calculate batch time\n",
        "      batch_time = time.time() - start_time\n",
        "\n",
        "      # Evaluate loss\n",
        "      x = evaluate_loss(model)\n",
        "      losses += [x]\n",
        "\n",
        "      # Print progress\n",
        "      if print_logs:\n",
        "        print(f\"Epoch: {epoch} | Train loss: {x['train']:0.3f} | Val loss: {x['val']:0.3f} | Batch time: {batch_time:0.3f} | ETA (sec): {batch_time * (config['epochs'] - epoch) / config['log_interval']:0.3f}\")\n",
        "\n",
        "      # Reset timer\n",
        "      start_time = time.time()\n",
        "\n",
        "      # Print learning rate\n",
        "      if scheduler:\n",
        "        print(\"Learning rate:\", scheduler.get_last_lr()[0])\n",
        "\n",
        "  print(\"Val loss:\", losses[-1][\"val\"])\n",
        "\n",
        "  return pd.DataFrame(losses).plot()"
      ],
      "metadata": {
        "id": "AoLKTPIEljau"
      },
      "execution_count": 17,
      "outputs": []
    },
    {
      "cell_type": "code",
      "source": [
        "# Reinit model\n",
        "model = Llama(MASTER_CONFIG).to(device)\n",
        "# Adam optimizer with specific hyperparameters\n",
        "llama_optimizer = torch.optim.Adam(\n",
        "    model.parameters(),\n",
        "    betas=(0.9, 0.95),\n",
        "    weight_decay=0.1,\n",
        "    eps=1e-9,\n",
        "    lr=1e-3\n",
        ")\n",
        "llama_optimizer = torch.optim.AdamW(model.parameters())\n",
        "# Cosine Annealing learning rate scheduler\n",
        "scheduler = torch.optim.lr_scheduler.CosineAnnealingLR(llama_optimizer, 300, eta_min=1e-5)\n",
        "scheduler = None\n",
        "\n",
        "# Train model\n",
        "train(model, llama_optimizer, scheduler=scheduler, print_logs=True)"
      ],
      "metadata": {
        "colab": {
          "base_uri": "https://localhost:8080/",
          "height": 1000
        },
        "id": "qcfSmKcbll9v",
        "outputId": "94c471b5-8952-499b-b9c7-8ecc32d9e5f4"
      },
      "execution_count": 18,
      "outputs": [
        {
          "output_type": "stream",
          "name": "stdout",
          "text": [
            "# of params: 2370246\n",
            "Epoch: 0 | Train loss: 4.126 | Val loss: 4.129 | Batch time: 1.646 | ETA (sec): 164.608\n",
            "Epoch: 100 | Train loss: 2.388 | Val loss: 2.445 | Batch time: 5.788 | ETA (sec): 573.023\n",
            "Epoch: 200 | Train loss: 2.231 | Val loss: 2.304 | Batch time: 6.782 | ETA (sec): 664.646\n",
            "Epoch: 300 | Train loss: 2.103 | Val loss: 2.200 | Batch time: 8.922 | ETA (sec): 865.459\n",
            "Epoch: 400 | Train loss: 2.029 | Val loss: 2.110 | Batch time: 7.373 | ETA (sec): 707.829\n",
            "Epoch: 500 | Train loss: 2.000 | Val loss: 2.101 | Batch time: 6.041 | ETA (sec): 573.930\n",
            "Epoch: 600 | Train loss: 1.965 | Val loss: 2.103 | Batch time: 5.208 | ETA (sec): 489.554\n",
            "Epoch: 700 | Train loss: 1.944 | Val loss: 2.052 | Batch time: 5.509 | ETA (sec): 512.344\n",
            "Epoch: 800 | Train loss: 1.955 | Val loss: 2.069 | Batch time: 5.083 | ETA (sec): 467.615\n",
            "Epoch: 900 | Train loss: 1.878 | Val loss: 2.033 | Batch time: 5.759 | ETA (sec): 524.066\n",
            "Epoch: 1000 | Train loss: 1.886 | Val loss: 1.974 | Batch time: 5.031 | ETA (sec): 452.829\n",
            "Epoch: 1100 | Train loss: 1.827 | Val loss: 1.983 | Batch time: 5.725 | ETA (sec): 509.564\n",
            "Epoch: 1200 | Train loss: 1.857 | Val loss: 1.950 | Batch time: 5.036 | ETA (sec): 443.195\n",
            "Epoch: 1300 | Train loss: 1.904 | Val loss: 1.967 | Batch time: 5.751 | ETA (sec): 500.298\n",
            "Epoch: 1400 | Train loss: 1.817 | Val loss: 1.944 | Batch time: 5.477 | ETA (sec): 471.035\n",
            "Epoch: 1500 | Train loss: 1.803 | Val loss: 1.931 | Batch time: 6.001 | ETA (sec): 510.110\n",
            "Epoch: 1600 | Train loss: 1.796 | Val loss: 1.924 | Batch time: 5.115 | ETA (sec): 429.689\n",
            "Epoch: 1700 | Train loss: 1.830 | Val loss: 1.909 | Batch time: 5.750 | ETA (sec): 477.214\n",
            "Epoch: 1800 | Train loss: 1.802 | Val loss: 1.938 | Batch time: 5.230 | ETA (sec): 428.875\n",
            "Epoch: 1900 | Train loss: 1.783 | Val loss: 1.842 | Batch time: 5.892 | ETA (sec): 477.246\n",
            "Epoch: 2000 | Train loss: 1.744 | Val loss: 1.867 | Batch time: 5.034 | ETA (sec): 402.729\n",
            "Epoch: 2100 | Train loss: 1.724 | Val loss: 1.911 | Batch time: 5.774 | ETA (sec): 456.175\n",
            "Epoch: 2200 | Train loss: 1.731 | Val loss: 1.868 | Batch time: 4.976 | ETA (sec): 388.150\n",
            "Epoch: 2300 | Train loss: 1.737 | Val loss: 1.854 | Batch time: 5.884 | ETA (sec): 453.106\n",
            "Epoch: 2400 | Train loss: 1.773 | Val loss: 1.832 | Batch time: 5.254 | ETA (sec): 399.341\n",
            "Epoch: 2500 | Train loss: 1.723 | Val loss: 1.856 | Batch time: 5.788 | ETA (sec): 434.117\n",
            "Epoch: 2600 | Train loss: 1.721 | Val loss: 1.839 | Batch time: 5.242 | ETA (sec): 387.906\n",
            "Epoch: 2700 | Train loss: 1.708 | Val loss: 1.815 | Batch time: 5.752 | ETA (sec): 419.901\n",
            "Epoch: 2800 | Train loss: 1.683 | Val loss: 1.859 | Batch time: 5.573 | ETA (sec): 401.278\n",
            "Epoch: 2900 | Train loss: 1.705 | Val loss: 1.813 | Batch time: 5.945 | ETA (sec): 422.086\n",
            "Epoch: 3000 | Train loss: 1.711 | Val loss: 1.810 | Batch time: 5.459 | ETA (sec): 382.116\n",
            "Epoch: 3100 | Train loss: 1.708 | Val loss: 1.790 | Batch time: 5.870 | ETA (sec): 405.042\n",
            "Epoch: 3200 | Train loss: 1.692 | Val loss: 1.787 | Batch time: 5.425 | ETA (sec): 368.895\n",
            "Epoch: 3300 | Train loss: 1.634 | Val loss: 1.780 | Batch time: 5.847 | ETA (sec): 391.776\n",
            "Epoch: 3400 | Train loss: 1.664 | Val loss: 1.697 | Batch time: 5.468 | ETA (sec): 360.885\n",
            "Epoch: 3500 | Train loss: 1.653 | Val loss: 1.791 | Batch time: 6.063 | ETA (sec): 394.075\n",
            "Epoch: 3600 | Train loss: 1.650 | Val loss: 1.781 | Batch time: 6.203 | ETA (sec): 396.968\n",
            "Epoch: 3700 | Train loss: 1.675 | Val loss: 1.745 | Batch time: 5.539 | ETA (sec): 348.962\n",
            "Epoch: 3800 | Train loss: 1.654 | Val loss: 1.790 | Batch time: 5.779 | ETA (sec): 358.291\n",
            "Epoch: 3900 | Train loss: 1.643 | Val loss: 1.708 | Batch time: 5.593 | ETA (sec): 341.171\n",
            "Epoch: 4000 | Train loss: 1.650 | Val loss: 1.778 | Batch time: 5.761 | ETA (sec): 345.659\n",
            "Epoch: 4100 | Train loss: 1.591 | Val loss: 1.766 | Batch time: 5.527 | ETA (sec): 326.076\n",
            "Epoch: 4200 | Train loss: 1.636 | Val loss: 1.710 | Batch time: 5.860 | ETA (sec): 339.861\n",
            "Epoch: 4300 | Train loss: 1.617 | Val loss: 1.754 | Batch time: 5.522 | ETA (sec): 314.726\n",
            "Epoch: 4400 | Train loss: 1.626 | Val loss: 1.788 | Batch time: 5.785 | ETA (sec): 323.956\n",
            "Epoch: 4500 | Train loss: 1.603 | Val loss: 1.701 | Batch time: 5.465 | ETA (sec): 300.570\n",
            "Epoch: 4600 | Train loss: 1.596 | Val loss: 1.691 | Batch time: 5.885 | ETA (sec): 317.774\n",
            "Epoch: 4700 | Train loss: 1.598 | Val loss: 1.700 | Batch time: 5.455 | ETA (sec): 289.111\n",
            "Epoch: 4800 | Train loss: 1.574 | Val loss: 1.715 | Batch time: 5.954 | ETA (sec): 309.615\n",
            "Epoch: 4900 | Train loss: 1.575 | Val loss: 1.654 | Batch time: 5.605 | ETA (sec): 285.876\n",
            "Epoch: 5000 | Train loss: 1.555 | Val loss: 1.704 | Batch time: 5.855 | ETA (sec): 292.734\n",
            "Epoch: 5100 | Train loss: 1.570 | Val loss: 1.661 | Batch time: 5.552 | ETA (sec): 272.065\n",
            "Epoch: 5200 | Train loss: 1.554 | Val loss: 1.723 | Batch time: 5.900 | ETA (sec): 283.198\n",
            "Epoch: 5300 | Train loss: 1.585 | Val loss: 1.641 | Batch time: 5.506 | ETA (sec): 258.778\n",
            "Epoch: 5400 | Train loss: 1.548 | Val loss: 1.684 | Batch time: 5.921 | ETA (sec): 272.356\n",
            "Epoch: 5500 | Train loss: 1.558 | Val loss: 1.685 | Batch time: 5.560 | ETA (sec): 250.222\n",
            "Epoch: 5600 | Train loss: 1.493 | Val loss: 1.733 | Batch time: 5.830 | ETA (sec): 256.541\n",
            "Epoch: 5700 | Train loss: 1.533 | Val loss: 1.661 | Batch time: 5.544 | ETA (sec): 238.383\n",
            "Epoch: 5800 | Train loss: 1.540 | Val loss: 1.674 | Batch time: 5.873 | ETA (sec): 246.651\n",
            "Epoch: 5900 | Train loss: 1.514 | Val loss: 1.651 | Batch time: 5.435 | ETA (sec): 222.854\n",
            "Epoch: 6000 | Train loss: 1.569 | Val loss: 1.647 | Batch time: 5.791 | ETA (sec): 231.660\n",
            "Epoch: 6100 | Train loss: 1.513 | Val loss: 1.701 | Batch time: 5.428 | ETA (sec): 211.709\n",
            "Epoch: 6200 | Train loss: 1.513 | Val loss: 1.661 | Batch time: 5.881 | ETA (sec): 223.475\n",
            "Epoch: 6300 | Train loss: 1.526 | Val loss: 1.670 | Batch time: 5.455 | ETA (sec): 201.841\n",
            "Epoch: 6400 | Train loss: 1.484 | Val loss: 1.611 | Batch time: 5.882 | ETA (sec): 211.737\n",
            "Epoch: 6500 | Train loss: 1.451 | Val loss: 1.598 | Batch time: 5.533 | ETA (sec): 193.641\n",
            "Epoch: 6600 | Train loss: 1.557 | Val loss: 1.661 | Batch time: 6.011 | ETA (sec): 204.359\n",
            "Epoch: 6700 | Train loss: 1.487 | Val loss: 1.621 | Batch time: 5.667 | ETA (sec): 187.014\n",
            "Epoch: 6800 | Train loss: 1.532 | Val loss: 1.554 | Batch time: 5.983 | ETA (sec): 191.446\n",
            "Epoch: 6900 | Train loss: 1.498 | Val loss: 1.647 | Batch time: 5.685 | ETA (sec): 176.233\n",
            "Epoch: 7000 | Train loss: 1.463 | Val loss: 1.563 | Batch time: 5.871 | ETA (sec): 176.124\n",
            "Epoch: 7100 | Train loss: 1.458 | Val loss: 1.582 | Batch time: 5.718 | ETA (sec): 165.810\n",
            "Epoch: 7200 | Train loss: 1.456 | Val loss: 1.562 | Batch time: 5.787 | ETA (sec): 162.026\n",
            "Epoch: 7300 | Train loss: 1.430 | Val loss: 1.598 | Batch time: 5.778 | ETA (sec): 156.000\n",
            "Epoch: 7400 | Train loss: 1.446 | Val loss: 1.538 | Batch time: 5.715 | ETA (sec): 148.590\n",
            "Epoch: 7500 | Train loss: 1.451 | Val loss: 1.585 | Batch time: 5.795 | ETA (sec): 144.884\n",
            "Epoch: 7600 | Train loss: 1.470 | Val loss: 1.642 | Batch time: 5.610 | ETA (sec): 134.639\n",
            "Epoch: 7700 | Train loss: 1.417 | Val loss: 1.544 | Batch time: 5.683 | ETA (sec): 130.710\n",
            "Epoch: 7800 | Train loss: 1.457 | Val loss: 1.578 | Batch time: 5.663 | ETA (sec): 124.592\n",
            "Epoch: 7900 | Train loss: 1.390 | Val loss: 1.517 | Batch time: 5.668 | ETA (sec): 119.021\n",
            "Epoch: 8000 | Train loss: 1.389 | Val loss: 1.496 | Batch time: 5.554 | ETA (sec): 111.084\n",
            "Epoch: 8100 | Train loss: 1.438 | Val loss: 1.491 | Batch time: 5.579 | ETA (sec): 105.992\n",
            "Epoch: 8200 | Train loss: 1.375 | Val loss: 1.507 | Batch time: 5.592 | ETA (sec): 100.665\n",
            "Epoch: 8300 | Train loss: 1.347 | Val loss: 1.500 | Batch time: 5.571 | ETA (sec): 94.708\n",
            "Epoch: 8400 | Train loss: 1.365 | Val loss: 1.485 | Batch time: 5.705 | ETA (sec): 91.280\n",
            "Epoch: 8500 | Train loss: 1.392 | Val loss: 1.543 | Batch time: 5.517 | ETA (sec): 82.762\n",
            "Epoch: 8600 | Train loss: 1.411 | Val loss: 1.482 | Batch time: 5.796 | ETA (sec): 81.151\n",
            "Epoch: 8700 | Train loss: 1.387 | Val loss: 1.425 | Batch time: 5.473 | ETA (sec): 71.151\n",
            "Epoch: 8800 | Train loss: 1.328 | Val loss: 1.471 | Batch time: 5.885 | ETA (sec): 70.618\n",
            "Epoch: 8900 | Train loss: 1.315 | Val loss: 1.479 | Batch time: 5.973 | ETA (sec): 65.702\n",
            "Epoch: 9000 | Train loss: 1.355 | Val loss: 1.499 | Batch time: 5.751 | ETA (sec): 57.513\n",
            "Epoch: 9100 | Train loss: 1.340 | Val loss: 1.448 | Batch time: 6.685 | ETA (sec): 60.166\n",
            "Epoch: 9200 | Train loss: 1.314 | Val loss: 1.453 | Batch time: 5.306 | ETA (sec): 42.449\n",
            "Epoch: 9300 | Train loss: 1.272 | Val loss: 1.445 | Batch time: 5.864 | ETA (sec): 41.045\n",
            "Epoch: 9400 | Train loss: 1.302 | Val loss: 1.441 | Batch time: 5.374 | ETA (sec): 32.245\n",
            "Epoch: 9500 | Train loss: 1.303 | Val loss: 1.387 | Batch time: 5.746 | ETA (sec): 28.728\n",
            "Epoch: 9600 | Train loss: 1.333 | Val loss: 1.422 | Batch time: 5.448 | ETA (sec): 21.793\n",
            "Epoch: 9700 | Train loss: 1.339 | Val loss: 1.404 | Batch time: 5.688 | ETA (sec): 17.064\n",
            "Epoch: 9800 | Train loss: 1.240 | Val loss: 1.344 | Batch time: 5.596 | ETA (sec): 11.192\n",
            "Epoch: 9900 | Train loss: 1.250 | Val loss: 1.396 | Batch time: 5.738 | ETA (sec): 5.738\n",
            "Val loss: 1.395563042163849\n"
          ]
        },
        {
          "output_type": "execute_result",
          "data": {
            "text/plain": [
              "<Axes: >"
            ]
          },
          "metadata": {},
          "execution_count": 18
        },
        {
          "output_type": "display_data",
          "data": {
            "text/plain": [
              "<Figure size 640x480 with 1 Axes>"
            ],
            "image/png": "[encoded data removed]"
          },
          "metadata": {}
        }
      ]
    },
    {
      "cell_type": "code",
      "source": [
        "# Save the model\n",
        "torch.save(model, 'llama_model.pth')\n",
        "# Save the model params\n",
        "torch.save(model.state_dict(), 'llama_model_params.pth')"
      ],
      "metadata": {
        "id": "b-hKUInB_39U"
      },
      "execution_count": 19,
      "outputs": []
    },
    {
      "cell_type": "markdown",
      "source": [
        "# Generating Text"
      ],
      "metadata": {
        "id": "HaS9gN6glrXT"
      }
    },
    {
      "cell_type": "code",
      "source": [
        "# Generate text using the model\n",
        "def generate(model, config=MASTER_CONFIG, num_texts=5, max_new_tokens=30):\n",
        "  # Initialize with zeros = '\\n'\n",
        "  idx = torch.zeros(num_texts, 1, device=device).long()\n",
        "\n",
        "  for _ in range(max_new_tokens):\n",
        "    # Call the model\n",
        "    logits = model(idx[:, -config[\"context_window\"]:])\n",
        "    # Get the newest logits: [all batches, last time step, all logits]\n",
        "    last_time_step_logits = logits[:, -1, :]\n",
        "    # Softmax probabilities\n",
        "    p = F.softmax(last_time_step_logits, dim=-1)\n",
        "    # Get the next token from the probabilities\n",
        "    idx_next = torch.multinomial(p, num_samples=1)\n",
        "    # Append the token\n",
        "    idx = torch.cat([idx, idx_next], dim=-1)\n",
        "\n",
        "  # Return the decoded tokens\n",
        "  return [decode(x) for x in idx.tolist()]"
      ],
      "metadata": {
        "id": "wevzDU4eltrM"
      },
      "execution_count": 20,
      "outputs": []
    },
    {
      "cell_type": "code",
      "source": [
        "generate(model, num_texts=1, max_new_tokens=500)"
      ],
      "metadata": {
        "colab": {
          "base_uri": "https://localhost:8080/"
        },
        "id": "TYExYXQXlu1J",
        "outputId": "5eaae222-0502-4368-e86c-59ed68425a8d"
      },
      "execution_count": 21,
      "outputs": [
        {
          "output_type": "execute_result",
          "data": {
            "text/plain": [
              "[\"\\nThe terer therel he tilt pet\\nyou mies east all take that fool my honour Zays it tongue offtash'd offind a say stuge obls fadies\\nit good pilive, that my news, andickled\\nYou Like;\\nA teak's lo, no let\\nI'll nant strath. Would gire your matchs:\\nThat shiles many forth to\\nneighteil pardon on in trath,Bue tor of\\nWith out Richmondings,\\nAnd lady you, it,\\nAncity, lives, I\\nfect see it I tearters to the viatip, spoidesful peck think adammorant;\\nSay matter; have hither inloy his unmoltle fulitowarrangim\\nThese\"]"
            ]
          },
          "metadata": {},
          "execution_count": 21
        }
      ]
    }
  ],
  "metadata": {
    "kernelspec": {
      "display_name": "Python 3",
      "name": "python3"
    },
    "language_info": {
      "name": "python",
      "version": "3.12.6"
    },
    "colab": {
      "provenance": [],
      "gpuType": "T4"
    },
    "accelerator": "GPU"
  },
  "nbformat": 4,
  "nbformat_minor": 0
}