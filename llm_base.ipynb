{
  "cells": [
    {
      "cell_type": "code",
      "source": [
        "# Imports\n",
        "import torch\n",
        "from torch import nn\n",
        "from torch.nn import functional as F\n",
        "\n",
        "import numpy as np\n",
        "\n",
        "from matplotlib import pyplot as plt\n",
        "\n",
        "import time\n",
        "\n",
        "import pandas as pd\n",
        "\n",
        "import urllib.request"
      ],
      "metadata": {
        "id": "QLD5lPCN3FNE"
      },
      "execution_count": 54,
      "outputs": []
    },
    {
      "cell_type": "code",
      "source": [
        "# Model parameters\n",
        "MASTER_CONFIG = {\n",
        "    \"vocab_size\": 65,       # Number of unique characters in the dataset\n",
        "    \"batch_size\": 32,       # Number of batches\n",
        "    \"context_window\": 16,   # Number of characters in a batch\n",
        "    \"d_model\": 128,         # Dimension of linear layers\n",
        "    \"epochs\": 1000,         # Number of training epochs\n",
        "    \"log_interval\": 10      # Frequency of logging the loss in epochs\n",
        "}"
      ],
      "metadata": {
        "id": "T9tpAmIM3OhH"
      },
      "execution_count": 55,
      "outputs": []
    },
    {
      "cell_type": "markdown",
      "source": [
        "# Data Preprocessing"
      ],
      "metadata": {
        "id": "aK3N5aGI2_gd"
      }
    },
    {
      "cell_type": "code",
      "execution_count": 56,
      "metadata": {
        "vscode": {
          "languageId": "plaintext"
        },
        "colab": {
          "base_uri": "https://localhost:8080/"
        },
        "id": "GokVAEtp25QP",
        "outputId": "e6a72894-c6fb-473a-e706-db27205c2315"
      },
      "outputs": [
        {
          "output_type": "execute_result",
          "data": {
            "text/plain": [
              "('tinyshakespeare.txt', <http.client.HTTPMessage at 0x7b4581642530>)"
            ]
          },
          "metadata": {},
          "execution_count": 56
        }
      ],
      "source": [
        "# Tiny Shakespeare\n",
        "url = \"https://raw.githubusercontent.com/karpathy/char-rnn/master/data/tinyshakespeare/input.txt\"\n",
        "file_name = \"tinyshakespeare.txt\"\n",
        "urllib.request.urlretrieve(url, file_name)"
      ]
    },
    {
      "cell_type": "code",
      "source": [
        "# Create vocab list of unique chars\n",
        "lines = open(\"tinyshakespeare.txt\", 'r').read()\n",
        "vocab = sorted(list(set(lines)))\n",
        "\n",
        "print(\"First 10 chars of vocab list:\", vocab[:10])\n",
        "print(\"Vocab size:\", len(vocab))"
      ],
      "metadata": {
        "colab": {
          "base_uri": "https://localhost:8080/"
        },
        "id": "Mv2bfoLd3dPj",
        "outputId": "5df9777f-7e14-41f8-d0bc-b4ecff816113"
      },
      "execution_count": 57,
      "outputs": [
        {
          "output_type": "stream",
          "name": "stdout",
          "text": [
            "First 10 chars of vocab list: ['\\n', ' ', '!', '$', '&', \"'\", ',', '-', '.', '3']\n",
            "Vocab size: 65\n"
          ]
        }
      ]
    },
    {
      "cell_type": "code",
      "source": [
        "# Int to string\n",
        "itos = {i: ch for i, ch in enumerate(vocab)}\n",
        "\n",
        "# String to int\n",
        "stoi = {ch: i for i, ch in enumerate(vocab)}"
      ],
      "metadata": {
        "id": "0cxgUCV_4EtW"
      },
      "execution_count": 58,
      "outputs": []
    },
    {
      "cell_type": "code",
      "source": [
        "# Encoding and decoding\n",
        "def encode(s):\n",
        "    return [stoi[ch] for ch in s]\n",
        "\n",
        "def decode(l):\n",
        "    return ''.join([itos[i] for i in l])\n",
        "\n",
        "# Example\n",
        "print(encode(\"hello world\"))\n",
        "print(decode(encode(\"hello world\")))"
      ],
      "metadata": {
        "colab": {
          "base_uri": "https://localhost:8080/"
        },
        "id": "FpZia87w4QYA",
        "outputId": "593b62ef-f7a5-46ee-fb06-08cdf779e4f4"
      },
      "execution_count": 59,
      "outputs": [
        {
          "output_type": "stream",
          "name": "stdout",
          "text": [
            "[46, 43, 50, 50, 53, 1, 61, 53, 56, 50, 42]\n",
            "hello world\n"
          ]
        }
      ]
    },
    {
      "cell_type": "code",
      "source": [
        "# Convert dataset into a tensor\n",
        "dataset = torch.tensor(encode(lines), dtype=torch.int8)\n",
        "\n",
        "# Approximately 1 million tokens (chars)\n",
        "print(dataset.shape)"
      ],
      "metadata": {
        "colab": {
          "base_uri": "https://localhost:8080/"
        },
        "id": "vNQ0fUlR4e1u",
        "outputId": "0ed91508-df21-4a11-a883-b7df34263ded"
      },
      "execution_count": 60,
      "outputs": [
        {
          "output_type": "stream",
          "name": "stdout",
          "text": [
            "torch.Size([1115394])\n"
          ]
        }
      ]
    },
    {
      "cell_type": "code",
      "source": [
        "# Split dataset into train/val/test batches\n",
        "def get_batches(data, split, batch_size, context_window, config=MASTER_CONFIG):\n",
        "  # Train/val/test split = 0.8/0.1/0.1\n",
        "  train = data[:int(0.8 * len(data))]\n",
        "  val = data[int(0.8 * len(data)):int(0.9 * len(data))]\n",
        "  test = data[int(0.9 * len(data)):]\n",
        "\n",
        "  # Determine which batch to use\n",
        "  batch_data = train\n",
        "  if split == \"val\":\n",
        "    batch_data = val\n",
        "  elif split == \"test\":\n",
        "    batch_data = test\n",
        "\n",
        "  # batch_size number of random starting points in the data\n",
        "  ix = torch.randint(0, batch_data.size(0) - context_window - 1, (batch_size,))\n",
        "\n",
        "  # Input and target sequences\n",
        "  x = torch.stack([batch_data[i:i + context_window] for i in ix]).long()\n",
        "  y = torch.stack([batch_data[i + 1:i + context_window + 1] for i in ix]).long()\n",
        "\n",
        "  return x, y"
      ],
      "metadata": {
        "id": "bSARofwL4z31"
      },
      "execution_count": 61,
      "outputs": []
    },
    {
      "cell_type": "code",
      "source": [
        "# Obtain batches for training\n",
        "xs, ys = get_batches(dataset, \"train\", MASTER_CONFIG[\"batch_size\"], MASTER_CONFIG[\"context_window\"])\n",
        "\n",
        "# Decode batches\n",
        "decoded_samples = [(decode(xs[i].tolist()), decode(ys[i].tolist())) for i in range(len(xs))]\n",
        "\n",
        "# (sample, target)\n",
        "print(decoded_samples)"
      ],
      "metadata": {
        "colab": {
          "base_uri": "https://localhost:8080/"
        },
        "id": "zLCjwJTQ639k",
        "outputId": "6175bb6e-12b6-4409-d709-a5235aeba650"
      },
      "execution_count": 62,
      "outputs": [
        {
          "output_type": "stream",
          "name": "stdout",
          "text": [
            "[(\"e\\nThat's curdied\", \"\\nThat's curdied \"), ('in wars.\\n\\nLORD R', 'n wars.\\n\\nLORD RO'), (', and then marry', ' and then marry '), ('Grapes, where in', 'rapes, where ind'), ('a benediction to', ' benediction to '), ('\\nRATCLIFF:\\nNay, ', 'RATCLIFF:\\nNay, g'), (' now, my masters', 'now, my masters!'), ('rrow. Take him u', 'row. Take him up'), (':\\nDraw, Benvolio', '\\nDraw, Benvolio;'), ('e heed you dally', ' heed you dally '), ('e loves me well;', ' loves me well;\\n'), ('ierce and terrib', 'erce and terribl'), ('r the world is b', ' the world is br'), ('st, my soul is f', 't, my soul is fu'), ('ing any longer c', 'ng any longer co'), ('d power look pal', ' power look pale'), ('ES:\\nThe blessed ', 'S:\\nThe blessed g'), ('ome to Rome, ren', 'me to Rome, reno'), ('ost piteous cry ', 'st piteous cry o'), ('d the common bod', ' the common body'), ('le; not by your ', 'e; not by your o'), ('n!\\nAlack, for le', '!\\nAlack, for les'), ('ccupations peris', 'cupations perish'), (' Wherefore?  for', 'Wherefore?  for '), ('did call me by m', 'id call me by my'), ('prepare him up\\nA', 'repare him up\\nAg'), ('e,\\nAs I by frien', ',\\nAs I by friend'), ('bodies as become', 'odies as becomes'), ('go? Take good Co', 'o? Take good Com'), ('t, and anon\\nswal', ', and anon\\nswall'), (' and finest, fin', 'and finest, fine'), (\"e squeak'd out a\", \" squeak'd out al\")]\n"
          ]
        }
      ]
    },
    {
      "cell_type": "markdown",
      "source": [
        "# Loss"
      ],
      "metadata": {
        "id": "eTN_5v-R8z8w"
      }
    },
    {
      "cell_type": "code",
      "source": [
        "# Computes the mean loss for 10 batches for train/val\n",
        "@torch.no_grad()\n",
        "def evaluate_loss(model, config=MASTER_CONFIG):\n",
        "  out = {}\n",
        "\n",
        "  # Set the model to evaluation mode\n",
        "  model.eval()\n",
        "\n",
        "  # Iterate through train and val splits\n",
        "  for split in [\"train\", \"val\"]:\n",
        "    losses = []\n",
        "\n",
        "    # Get 10 sample batches\n",
        "    for _ in range(10):\n",
        "      # Input and target sequences\n",
        "      xb, yb = get_batches(dataset, split, config[\"batch_size\"], config[\"context_window\"])\n",
        "      # Run the model and calculate the loss\n",
        "      _, loss = model(xb, yb)\n",
        "      losses.append(loss.item())\n",
        "\n",
        "    out[split] = np.mean(losses)\n",
        "\n",
        "  # Set the model to train mode\n",
        "  model.train()\n",
        "\n",
        "  return out"
      ],
      "metadata": {
        "id": "GnsmkYd581G-"
      },
      "execution_count": 63,
      "outputs": []
    },
    {
      "cell_type": "markdown",
      "source": [
        "# Base Model"
      ],
      "metadata": {
        "id": "WtCxVy_N-_TA"
      }
    },
    {
      "cell_type": "code",
      "source": [
        "class BaseNN(nn.Module):\n",
        "  def __init__(self, config=MASTER_CONFIG):\n",
        "    super().__init__()\n",
        "    self.config = config\n",
        "\n",
        "    # Embedding layer to convert character indices to vectors\n",
        "    self.embedding = nn.Embedding(config[\"vocab_size\"], config[\"d_model\"])\n",
        "    # Linear layers\n",
        "    self.linear = nn.Sequential(\n",
        "        nn.Linear(config[\"d_model\"], config[\"d_model\"]),\n",
        "        nn.ReLU(),\n",
        "        nn.Linear(config[\"d_model\"], config[\"vocab_size\"])\n",
        "    )\n",
        "\n",
        "    print(\"# of params:\", sum(p.numel() for p in self.parameters()))\n",
        "\n",
        "  def forward(self, idx, targets=None):\n",
        "    # Embedding layer converts character indices to vectors\n",
        "    x = self.embedding(idx)\n",
        "    # Linear layers\n",
        "    logits = self.linear(x)\n",
        "\n",
        "    # If there are targets, calculate and return the cross entropy loss\n",
        "    if targets is not None:\n",
        "      loss = F.cross_entropy(logits.view(-1, self.config[\"vocab_size\"]), targets.view(-1))\n",
        "      return logits, loss\n",
        "\n",
        "    return logits"
      ],
      "metadata": {
        "id": "lVMDgNc---26"
      },
      "execution_count": 64,
      "outputs": []
    },
    {
      "cell_type": "code",
      "source": [
        "# Initialize model\n",
        "model = BaseNN(MASTER_CONFIG)\n",
        "\n",
        "# Adam optimizer\n",
        "optimizer = torch.optim.Adam(model.parameters())"
      ],
      "metadata": {
        "colab": {
          "base_uri": "https://localhost:8080/"
        },
        "id": "Mn-kzPncELWo",
        "outputId": "d032d7df-1ad0-4f83-d844-1a9d402445cf"
      },
      "execution_count": 71,
      "outputs": [
        {
          "output_type": "stream",
          "name": "stdout",
          "text": [
            "# of params: 33217\n"
          ]
        }
      ]
    },
    {
      "cell_type": "code",
      "source": [
        "# Calculate sample logits and loss\n",
        "xs, ys = get_batches(dataset, \"train\", MASTER_CONFIG[\"batch_size\"], MASTER_CONFIG[\"context_window\"])\n",
        "logits, loss = model(xs, ys)\n",
        "\n",
        "print(\"Logits shape:\", logits.shape)\n",
        "print(\"Loss:\", loss.item())"
      ],
      "metadata": {
        "colab": {
          "base_uri": "https://localhost:8080/"
        },
        "id": "ukpkn_GAFIX4",
        "outputId": "0fd31229-0b2a-4237-cdc1-29036c62a78a"
      },
      "execution_count": 66,
      "outputs": [
        {
          "output_type": "stream",
          "name": "stdout",
          "text": [
            "Logits shape: torch.Size([32, 16, 65])\n",
            "Loss: 4.148128509521484\n"
          ]
        }
      ]
    },
    {
      "cell_type": "code",
      "source": [
        "# Training loop\n",
        "def train(model, optimizer, scheduler=None, config=MASTER_CONFIG, print_logs=False):\n",
        "  losses = []\n",
        "  start_time = time.time()\n",
        "\n",
        "  # Iterate through epochs\n",
        "  for epoch in range(config[\"epochs\"]):\n",
        "    # Zero out gradients\n",
        "    optimizer.zero_grad()\n",
        "\n",
        "    # Get training batches\n",
        "    xs, ys = get_batches(dataset, \"train\", config[\"batch_size\"], config[\"context_window\"])\n",
        "    # Run the model and calculate the loss\n",
        "    logits, loss = model(xs, targets=ys)\n",
        "    # Backpropagate the loss\n",
        "    loss.backward()\n",
        "    # Step the optimizer\n",
        "    optimizer.step()\n",
        "\n",
        "    # If there's a learning rate scheduler, adjust the learning rate\n",
        "    if scheduler:\n",
        "      scheduler.step()\n",
        "\n",
        "    # Log progress\n",
        "    if epoch % config[\"log_interval\"] == 0:\n",
        "      # Calculate batch time\n",
        "      batch_time = time.time() - start_time\n",
        "\n",
        "      # Evaluate loss\n",
        "      x = evaluate_loss(model)\n",
        "      losses += [x]\n",
        "\n",
        "      # Print progress\n",
        "      if print_logs:\n",
        "        print(f\"Epoch: {epoch} | Train loss: {x['train']:0.3f} | Val loss: {x['val']:0.3f} | Time: {batch_time:0.3f} | ETA in sec {batch_time * (config['epochs'] - epoch) / config['log_interval']:0.3f}\")\n",
        "\n",
        "      # Reset timer\n",
        "      start_time = time.time()\n",
        "\n",
        "      # Print learning rate\n",
        "      if scheduler:\n",
        "        print(\"Learning rate:\", scheduler.get_last_lr())\n",
        "\n",
        "  print(\"Val loss:\", losses[-1][\"val\"])\n",
        "\n",
        "  return pd.DataFrame(losses).plot()"
      ],
      "metadata": {
        "id": "XqRFF7nCdkhn"
      },
      "execution_count": 67,
      "outputs": []
    },
    {
      "cell_type": "code",
      "source": [
        "# Reinit model and optimizer\n",
        "model = BaseNN(MASTER_CONFIG)\n",
        "optimizer = torch.optim.Adam(model.parameters())\n",
        "\n",
        "# Train model\n",
        "train(model, optimizer, print_logs=True)"
      ],
      "metadata": {
        "id": "H520DI11fj7u",
        "outputId": "6aaf8e8a-9b43-4ef0-f643-9869beebe4ce",
        "colab": {
          "base_uri": "https://localhost:8080/",
          "height": 1000
        }
      },
      "execution_count": 68,
      "outputs": [
        {
          "output_type": "stream",
          "name": "stdout",
          "text": [
            "# of params: 33217\n",
            "Epoch: 0 | Train loss: 4.060 | Val loss: 4.053 | Time: 0.010 | ETA in sec 1.035\n",
            "Epoch: 10 | Train loss: 3.507 | Val loss: 3.514 | Time: 0.053 | ETA in sec 5.252\n",
            "Epoch: 20 | Train loss: 3.127 | Val loss: 3.107 | Time: 0.062 | ETA in sec 6.115\n",
            "Epoch: 30 | Train loss: 2.932 | Val loss: 2.916 | Time: 0.094 | ETA in sec 9.162\n",
            "Epoch: 40 | Train loss: 2.817 | Val loss: 2.805 | Time: 0.090 | ETA in sec 8.597\n",
            "Epoch: 50 | Train loss: 2.753 | Val loss: 2.795 | Time: 0.095 | ETA in sec 9.032\n",
            "Epoch: 60 | Train loss: 2.679 | Val loss: 2.730 | Time: 0.082 | ETA in sec 7.716\n",
            "Epoch: 70 | Train loss: 2.688 | Val loss: 2.648 | Time: 0.084 | ETA in sec 7.815\n",
            "Epoch: 80 | Train loss: 2.618 | Val loss: 2.662 | Time: 0.087 | ETA in sec 7.979\n",
            "Epoch: 90 | Train loss: 2.628 | Val loss: 2.627 | Time: 0.073 | ETA in sec 6.653\n",
            "Epoch: 100 | Train loss: 2.618 | Val loss: 2.647 | Time: 0.075 | ETA in sec 6.748\n",
            "Epoch: 110 | Train loss: 2.623 | Val loss: 2.684 | Time: 0.078 | ETA in sec 6.906\n",
            "Epoch: 120 | Train loss: 2.579 | Val loss: 2.617 | Time: 0.075 | ETA in sec 6.583\n",
            "Epoch: 130 | Train loss: 2.567 | Val loss: 2.610 | Time: 0.073 | ETA in sec 6.343\n",
            "Epoch: 140 | Train loss: 2.566 | Val loss: 2.594 | Time: 0.074 | ETA in sec 6.344\n",
            "Epoch: 150 | Train loss: 2.556 | Val loss: 2.592 | Time: 0.076 | ETA in sec 6.480\n",
            "Epoch: 160 | Train loss: 2.572 | Val loss: 2.581 | Time: 0.078 | ETA in sec 6.575\n",
            "Epoch: 170 | Train loss: 2.543 | Val loss: 2.589 | Time: 0.081 | ETA in sec 6.706\n",
            "Epoch: 180 | Train loss: 2.502 | Val loss: 2.521 | Time: 0.085 | ETA in sec 6.937\n",
            "Epoch: 190 | Train loss: 2.563 | Val loss: 2.565 | Time: 0.075 | ETA in sec 6.035\n",
            "Epoch: 200 | Train loss: 2.510 | Val loss: 2.609 | Time: 0.075 | ETA in sec 6.000\n",
            "Epoch: 210 | Train loss: 2.533 | Val loss: 2.558 | Time: 0.074 | ETA in sec 5.839\n",
            "Epoch: 220 | Train loss: 2.532 | Val loss: 2.512 | Time: 0.074 | ETA in sec 5.768\n",
            "Epoch: 230 | Train loss: 2.508 | Val loss: 2.552 | Time: 0.078 | ETA in sec 5.988\n",
            "Epoch: 240 | Train loss: 2.511 | Val loss: 2.535 | Time: 0.078 | ETA in sec 5.943\n",
            "Epoch: 250 | Train loss: 2.498 | Val loss: 2.573 | Time: 0.050 | ETA in sec 3.769\n",
            "Epoch: 260 | Train loss: 2.514 | Val loss: 2.532 | Time: 0.050 | ETA in sec 3.737\n",
            "Epoch: 270 | Train loss: 2.462 | Val loss: 2.504 | Time: 0.055 | ETA in sec 3.995\n",
            "Epoch: 280 | Train loss: 2.519 | Val loss: 2.573 | Time: 0.052 | ETA in sec 3.741\n",
            "Epoch: 290 | Train loss: 2.476 | Val loss: 2.570 | Time: 0.049 | ETA in sec 3.507\n",
            "Epoch: 300 | Train loss: 2.504 | Val loss: 2.530 | Time: 0.055 | ETA in sec 3.863\n",
            "Epoch: 310 | Train loss: 2.512 | Val loss: 2.532 | Time: 0.053 | ETA in sec 3.625\n",
            "Epoch: 320 | Train loss: 2.496 | Val loss: 2.554 | Time: 0.051 | ETA in sec 3.495\n",
            "Epoch: 330 | Train loss: 2.463 | Val loss: 2.522 | Time: 0.053 | ETA in sec 3.529\n",
            "Epoch: 340 | Train loss: 2.478 | Val loss: 2.535 | Time: 0.052 | ETA in sec 3.442\n",
            "Epoch: 350 | Train loss: 2.485 | Val loss: 2.497 | Time: 0.062 | ETA in sec 4.037\n",
            "Epoch: 360 | Train loss: 2.514 | Val loss: 2.553 | Time: 0.049 | ETA in sec 3.133\n",
            "Epoch: 370 | Train loss: 2.498 | Val loss: 2.525 | Time: 0.051 | ETA in sec 3.182\n",
            "Epoch: 380 | Train loss: 2.506 | Val loss: 2.554 | Time: 0.053 | ETA in sec 3.303\n",
            "Epoch: 390 | Train loss: 2.512 | Val loss: 2.538 | Time: 0.053 | ETA in sec 3.234\n",
            "Epoch: 400 | Train loss: 2.500 | Val loss: 2.512 | Time: 0.048 | ETA in sec 2.902\n",
            "Epoch: 410 | Train loss: 2.479 | Val loss: 2.497 | Time: 0.051 | ETA in sec 3.006\n",
            "Epoch: 420 | Train loss: 2.487 | Val loss: 2.508 | Time: 0.051 | ETA in sec 2.953\n",
            "Epoch: 430 | Train loss: 2.498 | Val loss: 2.521 | Time: 0.051 | ETA in sec 2.908\n",
            "Epoch: 440 | Train loss: 2.467 | Val loss: 2.516 | Time: 0.051 | ETA in sec 2.873\n",
            "Epoch: 450 | Train loss: 2.481 | Val loss: 2.563 | Time: 0.064 | ETA in sec 3.508\n",
            "Epoch: 460 | Train loss: 2.489 | Val loss: 2.507 | Time: 0.059 | ETA in sec 3.184\n",
            "Epoch: 470 | Train loss: 2.475 | Val loss: 2.509 | Time: 0.046 | ETA in sec 2.436\n",
            "Epoch: 480 | Train loss: 2.486 | Val loss: 2.519 | Time: 0.050 | ETA in sec 2.599\n",
            "Epoch: 490 | Train loss: 2.496 | Val loss: 2.511 | Time: 0.056 | ETA in sec 2.876\n",
            "Epoch: 500 | Train loss: 2.486 | Val loss: 2.531 | Time: 0.051 | ETA in sec 2.575\n",
            "Epoch: 510 | Train loss: 2.481 | Val loss: 2.526 | Time: 0.053 | ETA in sec 2.607\n",
            "Epoch: 520 | Train loss: 2.493 | Val loss: 2.519 | Time: 0.053 | ETA in sec 2.555\n",
            "Epoch: 530 | Train loss: 2.482 | Val loss: 2.532 | Time: 0.050 | ETA in sec 2.355\n",
            "Epoch: 540 | Train loss: 2.488 | Val loss: 2.531 | Time: 0.051 | ETA in sec 2.359\n",
            "Epoch: 550 | Train loss: 2.478 | Val loss: 2.499 | Time: 0.057 | ETA in sec 2.573\n",
            "Epoch: 560 | Train loss: 2.467 | Val loss: 2.521 | Time: 0.049 | ETA in sec 2.155\n",
            "Epoch: 570 | Train loss: 2.500 | Val loss: 2.490 | Time: 0.049 | ETA in sec 2.090\n",
            "Epoch: 580 | Train loss: 2.488 | Val loss: 2.539 | Time: 0.051 | ETA in sec 2.127\n",
            "Epoch: 590 | Train loss: 2.449 | Val loss: 2.523 | Time: 0.051 | ETA in sec 2.089\n",
            "Epoch: 600 | Train loss: 2.481 | Val loss: 2.525 | Time: 0.049 | ETA in sec 1.942\n",
            "Epoch: 610 | Train loss: 2.467 | Val loss: 2.524 | Time: 0.055 | ETA in sec 2.136\n",
            "Epoch: 620 | Train loss: 2.495 | Val loss: 2.516 | Time: 0.052 | ETA in sec 1.986\n",
            "Epoch: 630 | Train loss: 2.498 | Val loss: 2.504 | Time: 0.049 | ETA in sec 1.811\n",
            "Epoch: 640 | Train loss: 2.474 | Val loss: 2.539 | Time: 0.052 | ETA in sec 1.860\n",
            "Epoch: 650 | Train loss: 2.449 | Val loss: 2.505 | Time: 0.052 | ETA in sec 1.830\n",
            "Epoch: 660 | Train loss: 2.482 | Val loss: 2.500 | Time: 0.049 | ETA in sec 1.674\n",
            "Epoch: 670 | Train loss: 2.487 | Val loss: 2.501 | Time: 0.056 | ETA in sec 1.840\n",
            "Epoch: 680 | Train loss: 2.507 | Val loss: 2.548 | Time: 0.064 | ETA in sec 2.054\n",
            "Epoch: 690 | Train loss: 2.470 | Val loss: 2.511 | Time: 0.047 | ETA in sec 1.454\n",
            "Epoch: 700 | Train loss: 2.456 | Val loss: 2.511 | Time: 0.052 | ETA in sec 1.573\n",
            "Epoch: 710 | Train loss: 2.485 | Val loss: 2.542 | Time: 0.055 | ETA in sec 1.608\n",
            "Epoch: 720 | Train loss: 2.464 | Val loss: 2.511 | Time: 0.049 | ETA in sec 1.380\n",
            "Epoch: 730 | Train loss: 2.471 | Val loss: 2.531 | Time: 0.051 | ETA in sec 1.376\n",
            "Epoch: 740 | Train loss: 2.457 | Val loss: 2.544 | Time: 0.059 | ETA in sec 1.524\n",
            "Epoch: 750 | Train loss: 2.464 | Val loss: 2.519 | Time: 0.048 | ETA in sec 1.210\n",
            "Epoch: 760 | Train loss: 2.488 | Val loss: 2.507 | Time: 0.060 | ETA in sec 1.439\n",
            "Epoch: 770 | Train loss: 2.485 | Val loss: 2.552 | Time: 0.049 | ETA in sec 1.135\n",
            "Epoch: 780 | Train loss: 2.485 | Val loss: 2.505 | Time: 0.058 | ETA in sec 1.270\n",
            "Epoch: 790 | Train loss: 2.494 | Val loss: 2.519 | Time: 0.056 | ETA in sec 1.168\n",
            "Epoch: 800 | Train loss: 2.478 | Val loss: 2.493 | Time: 0.051 | ETA in sec 1.018\n",
            "Epoch: 810 | Train loss: 2.477 | Val loss: 2.523 | Time: 0.048 | ETA in sec 0.911\n",
            "Epoch: 820 | Train loss: 2.449 | Val loss: 2.543 | Time: 0.054 | ETA in sec 0.970\n",
            "Epoch: 830 | Train loss: 2.470 | Val loss: 2.513 | Time: 0.050 | ETA in sec 0.844\n",
            "Epoch: 840 | Train loss: 2.444 | Val loss: 2.522 | Time: 0.048 | ETA in sec 0.763\n",
            "Epoch: 850 | Train loss: 2.473 | Val loss: 2.515 | Time: 0.050 | ETA in sec 0.745\n",
            "Epoch: 860 | Train loss: 2.441 | Val loss: 2.522 | Time: 0.048 | ETA in sec 0.675\n",
            "Epoch: 870 | Train loss: 2.473 | Val loss: 2.527 | Time: 0.052 | ETA in sec 0.670\n",
            "Epoch: 880 | Train loss: 2.464 | Val loss: 2.535 | Time: 0.051 | ETA in sec 0.609\n",
            "Epoch: 890 | Train loss: 2.486 | Val loss: 2.520 | Time: 0.051 | ETA in sec 0.560\n",
            "Epoch: 900 | Train loss: 2.484 | Val loss: 2.490 | Time: 0.047 | ETA in sec 0.468\n",
            "Epoch: 910 | Train loss: 2.463 | Val loss: 2.510 | Time: 0.050 | ETA in sec 0.454\n",
            "Epoch: 920 | Train loss: 2.487 | Val loss: 2.484 | Time: 0.048 | ETA in sec 0.381\n",
            "Epoch: 930 | Train loss: 2.468 | Val loss: 2.526 | Time: 0.051 | ETA in sec 0.356\n",
            "Epoch: 940 | Train loss: 2.489 | Val loss: 2.509 | Time: 0.050 | ETA in sec 0.303\n",
            "Epoch: 950 | Train loss: 2.483 | Val loss: 2.499 | Time: 0.049 | ETA in sec 0.246\n",
            "Epoch: 960 | Train loss: 2.467 | Val loss: 2.507 | Time: 0.048 | ETA in sec 0.191\n",
            "Epoch: 970 | Train loss: 2.460 | Val loss: 2.534 | Time: 0.056 | ETA in sec 0.169\n",
            "Epoch: 980 | Train loss: 2.468 | Val loss: 2.502 | Time: 0.049 | ETA in sec 0.097\n",
            "Epoch: 990 | Train loss: 2.495 | Val loss: 2.491 | Time: 0.074 | ETA in sec 0.074\n",
            "Val loss: 2.4912687301635743\n"
          ]
        },
        {
          "output_type": "execute_result",
          "data": {
            "text/plain": [
              "<Axes: >"
            ]
          },
          "metadata": {},
          "execution_count": 68
        },
        {
          "output_type": "display_data",
          "data": {
            "text/plain": [
              "<Figure size 640x480 with 1 Axes>"
            ],
            "image/png": "[encoded data removed]"
          },
          "metadata": {}
        }
      ]
    },
    {
      "cell_type": "markdown",
      "source": [
        "# Generating Text"
      ],
      "metadata": {
        "id": "0SiL2Ckbh_qR"
      }
    },
    {
      "cell_type": "code",
      "source": [
        "# Generate text using the model\n",
        "def generate(model, config=MASTER_CONFIG, num_texts=5, max_new_tokens=30):\n",
        "  # Initialize with zeros = '\\n'\n",
        "  idx = torch.zeros(num_texts, 1).long()\n",
        "\n",
        "  for _ in range(max_new_tokens):\n",
        "    # Call the model\n",
        "    logits = model(idx[:, -config[\"context_window\"]:])\n",
        "    # Get the newest logits: [all batches, last time step, all logits]\n",
        "    last_time_step_logits = logits[:, -1, :]\n",
        "    # Softmax probabilities\n",
        "    p = F.softmax(last_time_step_logits, dim=-1)\n",
        "    # Get the next token from the probabilities\n",
        "    idx_next = torch.multinomial(p, num_samples=1)\n",
        "    # Append the token\n",
        "    idx = torch.cat([idx, idx_next], dim=-1)\n",
        "\n",
        "  # Return the decoded tokens\n",
        "  return [decode(x) for x in idx.tolist()]"
      ],
      "metadata": {
        "id": "OVIHhzEeh-Be"
      },
      "execution_count": 69,
      "outputs": []
    },
    {
      "cell_type": "code",
      "source": [
        "generate(model)"
      ],
      "metadata": {
        "id": "fFNg6Gwvjv39",
        "outputId": "ef59dee8-ab2e-4ed4-aa67-748e39990bed",
        "colab": {
          "base_uri": "https://localhost:8080/"
        }
      },
      "execution_count": 70,
      "outputs": [
        {
          "output_type": "execute_result",
          "data": {
            "text/plain": [
              "['\\nShee, my ny oflodsthiemer,\\nSof',\n",
              " '\\nWe f w ath r.\\nGelorny wio Goth',\n",
              " '\\nAnaloulome f blour J de d s l ',\n",
              " '\\nAn ve hakierfy Bs wedilom mby ',\n",
              " '\\nHERCL:\\nRUTUSTanowerd is t, gha']"
            ]
          },
          "metadata": {},
          "execution_count": 70
        }
      ]
    }
  ],
  "metadata": {
    "language_info": {
      "name": "python"
    },
    "colab": {
      "provenance": []
    },
    "kernelspec": {
      "name": "python3",
      "display_name": "Python 3"
    }
  },
  "nbformat": 4,
  "nbformat_minor": 0
}