{
  "cells": [
    {
      "cell_type": "code",
      "source": [
        "# Imports\n",
        "import torch\n",
        "from torch import nn\n",
        "from torch.nn import functional as F\n",
        "\n",
        "import numpy as np\n",
        "\n",
        "from matplotlib import pyplot as plt\n",
        "\n",
        "import time\n",
        "\n",
        "import pandas as pd\n",
        "\n",
        "import urllib.request"
      ],
      "metadata": {
        "id": "QLD5lPCN3FNE"
      },
      "execution_count": 72,
      "outputs": []
    },
    {
      "cell_type": "code",
      "source": [
        "# Model parameters\n",
        "MASTER_CONFIG = {\n",
        "    \"vocab_size\": 65,       # Number of unique characters in the dataset\n",
        "    \"batch_size\": 32,       # Number of batches\n",
        "    \"context_window\": 16,   # Number of characters in a batch\n",
        "    \"d_model\": 128,         # Dimension of linear layers\n",
        "    \"epochs\": 1000,         # Number of training epochs\n",
        "    \"log_interval\": 10      # Frequency of logging the loss in epochs\n",
        "}"
      ],
      "metadata": {
        "id": "T9tpAmIM3OhH"
      },
      "execution_count": 73,
      "outputs": []
    },
    {
      "cell_type": "markdown",
      "source": [
        "# Data Preprocessing"
      ],
      "metadata": {
        "id": "aK3N5aGI2_gd"
      }
    },
    {
      "cell_type": "code",
      "execution_count": 74,
      "metadata": {
        "vscode": {
          "languageId": "plaintext"
        },
        "colab": {
          "base_uri": "https://localhost:8080/"
        },
        "id": "GokVAEtp25QP",
        "outputId": "bce0f45d-8258-4eb5-df7a-e0fb87ae55e4"
      },
      "outputs": [
        {
          "output_type": "execute_result",
          "data": {
            "text/plain": [
              "('tinyshakespeare.txt', <http.client.HTTPMessage at 0x7b458124ee30>)"
            ]
          },
          "metadata": {},
          "execution_count": 74
        }
      ],
      "source": [
        "# Tiny Shakespeare\n",
        "url = \"https://raw.githubusercontent.com/karpathy/char-rnn/master/data/tinyshakespeare/input.txt\"\n",
        "file_name = \"tinyshakespeare.txt\"\n",
        "urllib.request.urlretrieve(url, file_name)"
      ]
    },
    {
      "cell_type": "code",
      "source": [
        "# Create vocab list of unique chars\n",
        "lines = open(\"tinyshakespeare.txt\", 'r').read()\n",
        "vocab = sorted(list(set(lines)))\n",
        "\n",
        "print(\"First 10 chars of vocab list:\", vocab[:10])\n",
        "print(\"Vocab size:\", len(vocab))"
      ],
      "metadata": {
        "colab": {
          "base_uri": "https://localhost:8080/"
        },
        "id": "Mv2bfoLd3dPj",
        "outputId": "bd6a036e-9429-4a03-9d2b-15d146aa1bb1"
      },
      "execution_count": 75,
      "outputs": [
        {
          "output_type": "stream",
          "name": "stdout",
          "text": [
            "First 10 chars of vocab list: ['\\n', ' ', '!', '$', '&', \"'\", ',', '-', '.', '3']\n",
            "Vocab size: 65\n"
          ]
        }
      ]
    },
    {
      "cell_type": "code",
      "source": [
        "# Int to string\n",
        "itos = {i: ch for i, ch in enumerate(vocab)}\n",
        "\n",
        "# String to int\n",
        "stoi = {ch: i for i, ch in enumerate(vocab)}"
      ],
      "metadata": {
        "id": "0cxgUCV_4EtW"
      },
      "execution_count": 76,
      "outputs": []
    },
    {
      "cell_type": "code",
      "source": [
        "# Encoding and decoding\n",
        "def encode(s):\n",
        "    return [stoi[ch] for ch in s]\n",
        "\n",
        "def decode(l):\n",
        "    return ''.join([itos[i] for i in l])\n",
        "\n",
        "# Example\n",
        "print(encode(\"hello world\"))\n",
        "print(decode(encode(\"hello world\")))"
      ],
      "metadata": {
        "colab": {
          "base_uri": "https://localhost:8080/"
        },
        "id": "FpZia87w4QYA",
        "outputId": "24696d22-57c0-45e2-c333-6126ba109501"
      },
      "execution_count": 77,
      "outputs": [
        {
          "output_type": "stream",
          "name": "stdout",
          "text": [
            "[46, 43, 50, 50, 53, 1, 61, 53, 56, 50, 42]\n",
            "hello world\n"
          ]
        }
      ]
    },
    {
      "cell_type": "code",
      "source": [
        "# Convert dataset into a tensor\n",
        "dataset = torch.tensor(encode(lines), dtype=torch.int8)\n",
        "\n",
        "# Approximately 1 million tokens (chars)\n",
        "print(dataset.shape)"
      ],
      "metadata": {
        "colab": {
          "base_uri": "https://localhost:8080/"
        },
        "id": "vNQ0fUlR4e1u",
        "outputId": "b52ef96b-2f73-4380-a0dc-d70cc7d2103b"
      },
      "execution_count": 78,
      "outputs": [
        {
          "output_type": "stream",
          "name": "stdout",
          "text": [
            "torch.Size([1115394])\n"
          ]
        }
      ]
    },
    {
      "cell_type": "code",
      "source": [
        "# Split dataset into train/val/test batches\n",
        "def get_batches(data, split, batch_size, context_window, config=MASTER_CONFIG):\n",
        "  # Train/val/test split = 0.8/0.1/0.1\n",
        "  train = data[:int(0.8 * len(data))]\n",
        "  val = data[int(0.8 * len(data)):int(0.9 * len(data))]\n",
        "  test = data[int(0.9 * len(data)):]\n",
        "\n",
        "  # Determine which batch to use\n",
        "  batch_data = train\n",
        "  if split == \"val\":\n",
        "    batch_data = val\n",
        "  elif split == \"test\":\n",
        "    batch_data = test\n",
        "\n",
        "  # batch_size number of random starting points in the data\n",
        "  ix = torch.randint(0, batch_data.size(0) - context_window - 1, (batch_size,))\n",
        "\n",
        "  # Input and target sequences\n",
        "  x = torch.stack([batch_data[i:i + context_window] for i in ix]).long()\n",
        "  y = torch.stack([batch_data[i + 1:i + context_window + 1] for i in ix]).long()\n",
        "\n",
        "  return x, y"
      ],
      "metadata": {
        "id": "bSARofwL4z31"
      },
      "execution_count": 79,
      "outputs": []
    },
    {
      "cell_type": "code",
      "source": [
        "# Obtain batches for training\n",
        "xs, ys = get_batches(dataset, \"train\", MASTER_CONFIG[\"batch_size\"], MASTER_CONFIG[\"context_window\"])\n",
        "\n",
        "# Decode batches\n",
        "decoded_samples = [(decode(xs[i].tolist()), decode(ys[i].tolist())) for i in range(len(xs))]\n",
        "\n",
        "# (sample, target)\n",
        "print(decoded_samples)"
      ],
      "metadata": {
        "colab": {
          "base_uri": "https://localhost:8080/"
        },
        "id": "zLCjwJTQ639k",
        "outputId": "97ffc3b6-98d9-4565-b88e-9a1976e3cc8f"
      },
      "execution_count": 80,
      "outputs": [
        {
          "output_type": "stream",
          "name": "stdout",
          "text": [
            "[('ut far unfit to ', 't far unfit to b'), ('nt\\nTo spend the ', 't\\nTo spend the t'), ('nocent milk in i', 'ocent milk in it'), (\"I can't say your\", \" can't say your \"), ('!\\n\\nAUFIDIUS:\\nWhy', '\\n\\nAUFIDIUS:\\nWhy,'), ('eks.\\n\\nKING EDWAR', 'ks.\\n\\nKING EDWARD'), ('aw good strawber', 'w good strawberr'), ('ow, good sir,\\nYo', 'w, good sir,\\nYou'), ('es of our blood\\n', 's of our blood\\nW'), (' as hot a Jack i', 'as hot a Jack in'), ('eapons to the gr', 'apons to the gro'), ('teach me how to ', 'each me how to f'), ('rsons whose name', 'sons whose names'), ('e swears,\\nAs he ', ' swears,\\nAs he h'), ('ff,\\nConceiving y', 'f,\\nConceiving yo'), (';\\nFor by his fac', '\\nFor by his face'), (' to:\\nA man at le', 'to:\\nA man at lea'), ('ty may dissolve ', 'y may dissolve t'), ('young and noble ', 'oung and noble g'), ('he master: if an', 'e master: if any'), ('an he will stand', 'n he will stand\\n'), ('ollow:\\nThe Volsc', 'llow:\\nThe Volsce'), ('duit, girl? what', 'uit, girl? what,'), ('Thank, gentle un', 'hank, gentle unc'), ('awhile, beseech ', 'while, beseech y'), ('hou\\nart as hones', 'ou\\nart as honest'), ('l soon the canke', ' soon the canker'), ('ering!\\n\\nCLEOMENE', 'ring!\\n\\nCLEOMENES'), ('creaseth.\\n\\nKING ', 'reaseth.\\n\\nKING R'), ('ders good for ba', 'ers good for bad'), ('\\nMy lord and you', 'My lord and you '), (' why stand you i', 'why stand you in')]\n"
          ]
        }
      ]
    },
    {
      "cell_type": "markdown",
      "source": [
        "# Loss"
      ],
      "metadata": {
        "id": "eTN_5v-R8z8w"
      }
    },
    {
      "cell_type": "code",
      "source": [
        "# Computes the mean loss for 10 batches for train/val\n",
        "@torch.no_grad()\n",
        "def evaluate_loss(model, config=MASTER_CONFIG):\n",
        "  out = {}\n",
        "\n",
        "  # Set the model to evaluation mode\n",
        "  model.eval()\n",
        "\n",
        "  # Iterate through train and val splits\n",
        "  for split in [\"train\", \"val\"]:\n",
        "    losses = []\n",
        "\n",
        "    # Get 10 sample batches\n",
        "    for _ in range(10):\n",
        "      # Input and target sequences\n",
        "      xb, yb = get_batches(dataset, split, config[\"batch_size\"], config[\"context_window\"])\n",
        "      # Run the model and calculate the loss\n",
        "      _, loss = model(xb, yb)\n",
        "      losses.append(loss.item())\n",
        "\n",
        "    out[split] = np.mean(losses)\n",
        "\n",
        "  # Set the model to train mode\n",
        "  model.train()\n",
        "\n",
        "  return out"
      ],
      "metadata": {
        "id": "GnsmkYd581G-"
      },
      "execution_count": 81,
      "outputs": []
    },
    {
      "cell_type": "markdown",
      "source": [
        "# Base Model"
      ],
      "metadata": {
        "id": "WtCxVy_N-_TA"
      }
    },
    {
      "cell_type": "code",
      "source": [
        "class BaseNN(nn.Module):\n",
        "  def __init__(self, config=MASTER_CONFIG):\n",
        "    super().__init__()\n",
        "    self.config = config\n",
        "\n",
        "    # Embedding layer to convert character indices to vectors\n",
        "    self.embedding = nn.Embedding(config[\"vocab_size\"], config[\"d_model\"])\n",
        "    # Linear layers\n",
        "    self.linear = nn.Sequential(\n",
        "        nn.Linear(config[\"d_model\"], config[\"d_model\"]),\n",
        "        nn.ReLU(),\n",
        "        nn.Linear(config[\"d_model\"], config[\"vocab_size\"])\n",
        "    )\n",
        "\n",
        "    print(\"# of params:\", sum(p.numel() for p in self.parameters()))\n",
        "\n",
        "  def forward(self, idx, targets=None):\n",
        "    # Embedding layer converts character indices to vectors\n",
        "    x = self.embedding(idx)\n",
        "    # Linear layers\n",
        "    logits = self.linear(x)\n",
        "\n",
        "    # If there are targets, calculate and return the cross entropy loss\n",
        "    if targets is not None:\n",
        "      loss = F.cross_entropy(logits.view(-1, self.config[\"vocab_size\"]), targets.view(-1))\n",
        "      return logits, loss\n",
        "\n",
        "    return logits"
      ],
      "metadata": {
        "id": "lVMDgNc---26"
      },
      "execution_count": 82,
      "outputs": []
    },
    {
      "cell_type": "code",
      "source": [
        "# Initialize model\n",
        "model = BaseNN(MASTER_CONFIG)\n",
        "\n",
        "# Adam optimizer\n",
        "optimizer = torch.optim.Adam(model.parameters())"
      ],
      "metadata": {
        "colab": {
          "base_uri": "https://localhost:8080/"
        },
        "id": "Mn-kzPncELWo",
        "outputId": "bbc3fb5f-763c-40e1-f9aa-067a224cc600"
      },
      "execution_count": 83,
      "outputs": [
        {
          "output_type": "stream",
          "name": "stdout",
          "text": [
            "# of params: 33217\n"
          ]
        }
      ]
    },
    {
      "cell_type": "code",
      "source": [
        "# Calculate sample logits and loss\n",
        "xs, ys = get_batches(dataset, \"train\", MASTER_CONFIG[\"batch_size\"], MASTER_CONFIG[\"context_window\"])\n",
        "logits, loss = model(xs, ys)\n",
        "\n",
        "print(\"Logits shape:\", logits.shape)\n",
        "print(\"Loss:\", loss.item())"
      ],
      "metadata": {
        "colab": {
          "base_uri": "https://localhost:8080/"
        },
        "id": "ukpkn_GAFIX4",
        "outputId": "9a877c68-44a5-4260-fe28-edb993dac5bc"
      },
      "execution_count": 84,
      "outputs": [
        {
          "output_type": "stream",
          "name": "stdout",
          "text": [
            "Logits shape: torch.Size([32, 16, 65])\n",
            "Loss: 4.1323065757751465\n"
          ]
        }
      ]
    },
    {
      "cell_type": "code",
      "source": [
        "# Training loop\n",
        "def train(model, optimizer, scheduler=None, config=MASTER_CONFIG, print_logs=False):\n",
        "  losses = []\n",
        "  start_time = time.time()\n",
        "\n",
        "  # Iterate through epochs\n",
        "  for epoch in range(config[\"epochs\"]):\n",
        "    # Zero out gradients\n",
        "    optimizer.zero_grad()\n",
        "\n",
        "    # Get training batches\n",
        "    xs, ys = get_batches(dataset, \"train\", config[\"batch_size\"], config[\"context_window\"])\n",
        "    # Run the model and calculate the loss\n",
        "    logits, loss = model(xs, targets=ys)\n",
        "    # Backpropagate the loss\n",
        "    loss.backward()\n",
        "    # Step the optimizer\n",
        "    optimizer.step()\n",
        "\n",
        "    # If there's a learning rate scheduler, adjust the learning rate\n",
        "    if scheduler:\n",
        "      scheduler.step()\n",
        "\n",
        "    # Log progress\n",
        "    if epoch % config[\"log_interval\"] == 0:\n",
        "      # Calculate batch time\n",
        "      batch_time = time.time() - start_time\n",
        "\n",
        "      # Evaluate loss\n",
        "      x = evaluate_loss(model)\n",
        "      losses += [x]\n",
        "\n",
        "      # Print progress\n",
        "      if print_logs:\n",
        "        print(f\"Epoch: {epoch} | Train loss: {x['train']:0.3f} | Val loss: {x['val']:0.3f} | Time: {batch_time:0.3f} | ETA (sec): {batch_time * (config['epochs'] - epoch) / config['log_interval']:0.3f}\")\n",
        "\n",
        "      # Reset timer\n",
        "      start_time = time.time()\n",
        "\n",
        "      # Print learning rate\n",
        "      if scheduler:\n",
        "        print(\"Learning rate:\", scheduler.get_last_lr())\n",
        "\n",
        "  print(\"Val loss:\", losses[-1][\"val\"])\n",
        "\n",
        "  return pd.DataFrame(losses).plot()"
      ],
      "metadata": {
        "id": "XqRFF7nCdkhn"
      },
      "execution_count": 85,
      "outputs": []
    },
    {
      "cell_type": "code",
      "source": [
        "# Reinit model and optimizer\n",
        "model = BaseNN(MASTER_CONFIG)\n",
        "optimizer = torch.optim.Adam(model.parameters())\n",
        "\n",
        "# Train model\n",
        "train(model, optimizer, print_logs=True)"
      ],
      "metadata": {
        "id": "H520DI11fj7u",
        "outputId": "0619faf4-bdd8-4be0-fcfb-af9e9bdc3962",
        "colab": {
          "base_uri": "https://localhost:8080/",
          "height": 1000
        }
      },
      "execution_count": 86,
      "outputs": [
        {
          "output_type": "stream",
          "name": "stdout",
          "text": [
            "# of params: 33217\n",
            "Epoch: 0 | Train loss: 4.106 | Val loss: 4.099 | Time: 0.013 | ETA (sec): 1.285\n",
            "Epoch: 10 | Train loss: 3.550 | Val loss: 3.567 | Time: 0.071 | ETA (sec): 7.045\n",
            "Epoch: 20 | Train loss: 3.194 | Val loss: 3.194 | Time: 0.051 | ETA (sec): 5.042\n",
            "Epoch: 30 | Train loss: 2.948 | Val loss: 2.999 | Time: 0.050 | ETA (sec): 4.831\n",
            "Epoch: 40 | Train loss: 2.799 | Val loss: 2.810 | Time: 0.056 | ETA (sec): 5.338\n",
            "Epoch: 50 | Train loss: 2.711 | Val loss: 2.785 | Time: 0.050 | ETA (sec): 4.711\n",
            "Epoch: 60 | Train loss: 2.744 | Val loss: 2.734 | Time: 0.051 | ETA (sec): 4.823\n",
            "Epoch: 70 | Train loss: 2.647 | Val loss: 2.682 | Time: 0.051 | ETA (sec): 4.764\n",
            "Epoch: 80 | Train loss: 2.657 | Val loss: 2.701 | Time: 0.064 | ETA (sec): 5.866\n",
            "Epoch: 90 | Train loss: 2.659 | Val loss: 2.636 | Time: 0.050 | ETA (sec): 4.548\n",
            "Epoch: 100 | Train loss: 2.621 | Val loss: 2.676 | Time: 0.050 | ETA (sec): 4.539\n",
            "Epoch: 110 | Train loss: 2.585 | Val loss: 2.657 | Time: 0.056 | ETA (sec): 4.964\n",
            "Epoch: 120 | Train loss: 2.589 | Val loss: 2.614 | Time: 0.054 | ETA (sec): 4.755\n",
            "Epoch: 130 | Train loss: 2.557 | Val loss: 2.594 | Time: 0.058 | ETA (sec): 5.019\n",
            "Epoch: 140 | Train loss: 2.551 | Val loss: 2.620 | Time: 0.085 | ETA (sec): 7.337\n",
            "Epoch: 150 | Train loss: 2.566 | Val loss: 2.625 | Time: 0.073 | ETA (sec): 6.202\n",
            "Epoch: 160 | Train loss: 2.513 | Val loss: 2.588 | Time: 0.077 | ETA (sec): 6.441\n",
            "Epoch: 170 | Train loss: 2.526 | Val loss: 2.574 | Time: 0.073 | ETA (sec): 6.023\n",
            "Epoch: 180 | Train loss: 2.527 | Val loss: 2.549 | Time: 0.078 | ETA (sec): 6.376\n",
            "Epoch: 190 | Train loss: 2.514 | Val loss: 2.550 | Time: 0.071 | ETA (sec): 5.783\n",
            "Epoch: 200 | Train loss: 2.527 | Val loss: 2.551 | Time: 0.049 | ETA (sec): 3.932\n",
            "Epoch: 210 | Train loss: 2.528 | Val loss: 2.561 | Time: 0.049 | ETA (sec): 3.845\n",
            "Epoch: 220 | Train loss: 2.478 | Val loss: 2.523 | Time: 0.051 | ETA (sec): 3.950\n",
            "Epoch: 230 | Train loss: 2.516 | Val loss: 2.532 | Time: 0.052 | ETA (sec): 4.019\n",
            "Epoch: 240 | Train loss: 2.514 | Val loss: 2.557 | Time: 0.052 | ETA (sec): 3.953\n",
            "Epoch: 250 | Train loss: 2.498 | Val loss: 2.548 | Time: 0.052 | ETA (sec): 3.915\n",
            "Epoch: 260 | Train loss: 2.507 | Val loss: 2.545 | Time: 0.054 | ETA (sec): 3.988\n",
            "Epoch: 270 | Train loss: 2.468 | Val loss: 2.516 | Time: 0.051 | ETA (sec): 3.699\n",
            "Epoch: 280 | Train loss: 2.506 | Val loss: 2.529 | Time: 0.053 | ETA (sec): 3.845\n",
            "Epoch: 290 | Train loss: 2.522 | Val loss: 2.531 | Time: 0.056 | ETA (sec): 3.984\n",
            "Epoch: 300 | Train loss: 2.502 | Val loss: 2.539 | Time: 0.051 | ETA (sec): 3.564\n",
            "Epoch: 310 | Train loss: 2.507 | Val loss: 2.541 | Time: 0.050 | ETA (sec): 3.440\n",
            "Epoch: 320 | Train loss: 2.521 | Val loss: 2.561 | Time: 0.051 | ETA (sec): 3.446\n",
            "Epoch: 330 | Train loss: 2.464 | Val loss: 2.528 | Time: 0.049 | ETA (sec): 3.301\n",
            "Epoch: 340 | Train loss: 2.470 | Val loss: 2.538 | Time: 0.054 | ETA (sec): 3.563\n",
            "Epoch: 350 | Train loss: 2.462 | Val loss: 2.511 | Time: 0.050 | ETA (sec): 3.273\n",
            "Epoch: 360 | Train loss: 2.498 | Val loss: 2.527 | Time: 0.059 | ETA (sec): 3.765\n",
            "Epoch: 370 | Train loss: 2.488 | Val loss: 2.557 | Time: 0.056 | ETA (sec): 3.505\n",
            "Epoch: 380 | Train loss: 2.478 | Val loss: 2.527 | Time: 0.048 | ETA (sec): 2.970\n",
            "Epoch: 390 | Train loss: 2.487 | Val loss: 2.573 | Time: 0.050 | ETA (sec): 3.068\n",
            "Epoch: 400 | Train loss: 2.470 | Val loss: 2.507 | Time: 0.074 | ETA (sec): 4.453\n",
            "Epoch: 410 | Train loss: 2.508 | Val loss: 2.521 | Time: 0.077 | ETA (sec): 4.524\n",
            "Epoch: 420 | Train loss: 2.487 | Val loss: 2.554 | Time: 0.079 | ETA (sec): 4.582\n",
            "Epoch: 430 | Train loss: 2.489 | Val loss: 2.515 | Time: 0.075 | ETA (sec): 4.292\n",
            "Epoch: 440 | Train loss: 2.462 | Val loss: 2.525 | Time: 0.070 | ETA (sec): 3.920\n",
            "Epoch: 450 | Train loss: 2.499 | Val loss: 2.530 | Time: 0.086 | ETA (sec): 4.719\n",
            "Epoch: 460 | Train loss: 2.470 | Val loss: 2.518 | Time: 0.080 | ETA (sec): 4.313\n",
            "Epoch: 470 | Train loss: 2.482 | Val loss: 2.501 | Time: 0.078 | ETA (sec): 4.121\n",
            "Epoch: 480 | Train loss: 2.476 | Val loss: 2.449 | Time: 0.072 | ETA (sec): 3.734\n",
            "Epoch: 490 | Train loss: 2.503 | Val loss: 2.528 | Time: 0.085 | ETA (sec): 4.359\n",
            "Epoch: 500 | Train loss: 2.485 | Val loss: 2.528 | Time: 0.074 | ETA (sec): 3.710\n",
            "Epoch: 510 | Train loss: 2.482 | Val loss: 2.530 | Time: 0.079 | ETA (sec): 3.868\n",
            "Epoch: 520 | Train loss: 2.491 | Val loss: 2.485 | Time: 0.079 | ETA (sec): 3.776\n",
            "Epoch: 530 | Train loss: 2.472 | Val loss: 2.515 | Time: 0.077 | ETA (sec): 3.606\n",
            "Epoch: 540 | Train loss: 2.502 | Val loss: 2.536 | Time: 0.082 | ETA (sec): 3.769\n",
            "Epoch: 550 | Train loss: 2.478 | Val loss: 2.511 | Time: 0.075 | ETA (sec): 3.368\n",
            "Epoch: 560 | Train loss: 2.462 | Val loss: 2.561 | Time: 0.074 | ETA (sec): 3.266\n",
            "Epoch: 570 | Train loss: 2.464 | Val loss: 2.544 | Time: 0.076 | ETA (sec): 3.259\n",
            "Epoch: 580 | Train loss: 2.493 | Val loss: 2.504 | Time: 0.083 | ETA (sec): 3.493\n",
            "Epoch: 590 | Train loss: 2.467 | Val loss: 2.499 | Time: 0.082 | ETA (sec): 3.377\n",
            "Epoch: 600 | Train loss: 2.469 | Val loss: 2.513 | Time: 0.069 | ETA (sec): 2.758\n",
            "Epoch: 610 | Train loss: 2.470 | Val loss: 2.543 | Time: 0.050 | ETA (sec): 1.946\n",
            "Epoch: 620 | Train loss: 2.476 | Val loss: 2.527 | Time: 0.049 | ETA (sec): 1.845\n",
            "Epoch: 630 | Train loss: 2.469 | Val loss: 2.538 | Time: 0.050 | ETA (sec): 1.853\n",
            "Epoch: 640 | Train loss: 2.468 | Val loss: 2.517 | Time: 0.051 | ETA (sec): 1.818\n",
            "Epoch: 650 | Train loss: 2.479 | Val loss: 2.523 | Time: 0.054 | ETA (sec): 1.904\n",
            "Epoch: 660 | Train loss: 2.454 | Val loss: 2.529 | Time: 0.054 | ETA (sec): 1.836\n",
            "Epoch: 670 | Train loss: 2.472 | Val loss: 2.518 | Time: 0.046 | ETA (sec): 1.510\n",
            "Epoch: 680 | Train loss: 2.464 | Val loss: 2.538 | Time: 0.052 | ETA (sec): 1.674\n",
            "Epoch: 690 | Train loss: 2.455 | Val loss: 2.549 | Time: 0.046 | ETA (sec): 1.435\n",
            "Epoch: 700 | Train loss: 2.466 | Val loss: 2.501 | Time: 0.051 | ETA (sec): 1.523\n",
            "Epoch: 710 | Train loss: 2.501 | Val loss: 2.551 | Time: 0.058 | ETA (sec): 1.682\n",
            "Epoch: 720 | Train loss: 2.481 | Val loss: 2.509 | Time: 0.047 | ETA (sec): 1.324\n",
            "Epoch: 730 | Train loss: 2.484 | Val loss: 2.472 | Time: 0.046 | ETA (sec): 1.254\n",
            "Epoch: 740 | Train loss: 2.475 | Val loss: 2.494 | Time: 0.061 | ETA (sec): 1.576\n",
            "Epoch: 750 | Train loss: 2.494 | Val loss: 2.510 | Time: 0.047 | ETA (sec): 1.168\n",
            "Epoch: 760 | Train loss: 2.483 | Val loss: 2.532 | Time: 0.050 | ETA (sec): 1.200\n",
            "Epoch: 770 | Train loss: 2.463 | Val loss: 2.495 | Time: 0.074 | ETA (sec): 1.707\n",
            "Epoch: 780 | Train loss: 2.472 | Val loss: 2.539 | Time: 0.048 | ETA (sec): 1.056\n",
            "Epoch: 790 | Train loss: 2.459 | Val loss: 2.524 | Time: 0.051 | ETA (sec): 1.071\n",
            "Epoch: 800 | Train loss: 2.477 | Val loss: 2.498 | Time: 0.052 | ETA (sec): 1.037\n",
            "Epoch: 810 | Train loss: 2.476 | Val loss: 2.496 | Time: 0.048 | ETA (sec): 0.908\n",
            "Epoch: 820 | Train loss: 2.497 | Val loss: 2.554 | Time: 0.048 | ETA (sec): 0.864\n",
            "Epoch: 830 | Train loss: 2.471 | Val loss: 2.493 | Time: 0.053 | ETA (sec): 0.895\n",
            "Epoch: 840 | Train loss: 2.456 | Val loss: 2.509 | Time: 0.047 | ETA (sec): 0.755\n",
            "Epoch: 850 | Train loss: 2.462 | Val loss: 2.530 | Time: 0.049 | ETA (sec): 0.733\n",
            "Epoch: 860 | Train loss: 2.476 | Val loss: 2.504 | Time: 0.053 | ETA (sec): 0.740\n",
            "Epoch: 870 | Train loss: 2.448 | Val loss: 2.536 | Time: 0.049 | ETA (sec): 0.634\n",
            "Epoch: 880 | Train loss: 2.500 | Val loss: 2.493 | Time: 0.046 | ETA (sec): 0.558\n",
            "Epoch: 890 | Train loss: 2.466 | Val loss: 2.512 | Time: 0.053 | ETA (sec): 0.587\n",
            "Epoch: 900 | Train loss: 2.494 | Val loss: 2.507 | Time: 0.047 | ETA (sec): 0.467\n",
            "Epoch: 910 | Train loss: 2.475 | Val loss: 2.492 | Time: 0.051 | ETA (sec): 0.455\n",
            "Epoch: 920 | Train loss: 2.482 | Val loss: 2.528 | Time: 0.050 | ETA (sec): 0.398\n",
            "Epoch: 930 | Train loss: 2.479 | Val loss: 2.463 | Time: 0.050 | ETA (sec): 0.349\n",
            "Epoch: 940 | Train loss: 2.478 | Val loss: 2.515 | Time: 0.046 | ETA (sec): 0.273\n",
            "Epoch: 950 | Train loss: 2.481 | Val loss: 2.528 | Time: 0.048 | ETA (sec): 0.240\n",
            "Epoch: 960 | Train loss: 2.466 | Val loss: 2.515 | Time: 0.052 | ETA (sec): 0.209\n",
            "Epoch: 970 | Train loss: 2.480 | Val loss: 2.500 | Time: 0.053 | ETA (sec): 0.160\n",
            "Epoch: 980 | Train loss: 2.465 | Val loss: 2.518 | Time: 0.051 | ETA (sec): 0.102\n",
            "Epoch: 990 | Train loss: 2.457 | Val loss: 2.513 | Time: 0.049 | ETA (sec): 0.049\n",
            "Val loss: 2.513480377197266\n"
          ]
        },
        {
          "output_type": "execute_result",
          "data": {
            "text/plain": [
              "<Axes: >"
            ]
          },
          "metadata": {},
          "execution_count": 86
        },
        {
          "output_type": "display_data",
          "data": {
            "text/plain": [
              "<Figure size 640x480 with 1 Axes>"
            ],
            "image/png": "[encoded data removed]"
          },
          "metadata": {}
        }
      ]
    },
    {
      "cell_type": "markdown",
      "source": [
        "# Generating Text"
      ],
      "metadata": {
        "id": "0SiL2Ckbh_qR"
      }
    },
    {
      "cell_type": "code",
      "source": [
        "# Generate text using the model\n",
        "def generate(model, config=MASTER_CONFIG, num_texts=5, max_new_tokens=30):\n",
        "  # Initialize with zeros = '\\n'\n",
        "  idx = torch.zeros(num_texts, 1).long()\n",
        "\n",
        "  for _ in range(max_new_tokens):\n",
        "    # Call the model\n",
        "    logits = model(idx[:, -config[\"context_window\"]:])\n",
        "    # Get the newest logits: [all batches, last time step, all logits]\n",
        "    last_time_step_logits = logits[:, -1, :]\n",
        "    # Softmax probabilities\n",
        "    p = F.softmax(last_time_step_logits, dim=-1)\n",
        "    # Get the next token from the probabilities\n",
        "    idx_next = torch.multinomial(p, num_samples=1)\n",
        "    # Append the token\n",
        "    idx = torch.cat([idx, idx_next], dim=-1)\n",
        "\n",
        "  # Return the decoded tokens\n",
        "  return [decode(x) for x in idx.tolist()]"
      ],
      "metadata": {
        "id": "OVIHhzEeh-Be"
      },
      "execution_count": 87,
      "outputs": []
    },
    {
      "cell_type": "code",
      "source": [
        "generate(model)"
      ],
      "metadata": {
        "id": "fFNg6Gwvjv39",
        "outputId": "90afec70-7855-4615-fbd4-26d4eab9d407",
        "colab": {
          "base_uri": "https://localhost:8080/"
        }
      },
      "execution_count": 88,
      "outputs": [
        {
          "output_type": "execute_result",
          "data": {
            "text/plain": [
              "['\\nbr y me th: cud t alarow ndeth',\n",
              " '\\nooou.\\nWh.\\nI d h ffed\\n\\nI impour',\n",
              " '\\nICisscke, m, rn knded owizerem',\n",
              " \"\\nWhen d.\\nS:\\n\\nQ'ly palu.\\nSe blin\",\n",
              " '\\nIOUCayegnth gouthou rel he ppe']"
            ]
          },
          "metadata": {},
          "execution_count": 88
        }
      ]
    }
  ],
  "metadata": {
    "language_info": {
      "name": "python"
    },
    "colab": {
      "provenance": []
    },
    "kernelspec": {
      "name": "python3",
      "display_name": "Python 3"
    }
  },
  "nbformat": 4,
  "nbformat_minor": 0
}