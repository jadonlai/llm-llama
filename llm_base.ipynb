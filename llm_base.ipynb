{
  "cells": [
    {
      "cell_type": "code",
      "source": [
        "# Imports\n",
        "import torch\n",
        "from torch import nn\n",
        "from torch.nn import functional as F\n",
        "\n",
        "import numpy as np\n",
        "\n",
        "from matplotlib import pyplot as plt\n",
        "\n",
        "import time\n",
        "\n",
        "import pandas as pd\n",
        "\n",
        "import urllib.request"
      ],
      "metadata": {
        "id": "QLD5lPCN3FNE"
      },
      "execution_count": 2,
      "outputs": []
    },
    {
      "cell_type": "code",
      "source": [
        "# Model parameters\n",
        "MASTER_CONFIG = {\n",
        "    \"vocab_size\": 65,       # Number of unique characters in the dataset\n",
        "    \"batch_size\": 32,       # Number of batches\n",
        "    \"context_window\": 16,   # Number of characters in a batch\n",
        "    \"d_model\": 128,         # Dimension of linear layers\n",
        "    \"epochs\": 1000,         # Number of training epochs\n",
        "    \"log_interval\": 10      # Frequency of logging the loss in epochs\n",
        "}"
      ],
      "metadata": {
        "id": "T9tpAmIM3OhH"
      },
      "execution_count": 16,
      "outputs": []
    },
    {
      "cell_type": "markdown",
      "source": [
        "# Data Preprocessing"
      ],
      "metadata": {
        "id": "aK3N5aGI2_gd"
      }
    },
    {
      "cell_type": "code",
      "execution_count": 4,
      "metadata": {
        "vscode": {
          "languageId": "plaintext"
        },
        "colab": {
          "base_uri": "https://localhost:8080/"
        },
        "id": "GokVAEtp25QP",
        "outputId": "d7d428e0-1c76-44f2-ed84-7d1eba19770b"
      },
      "outputs": [
        {
          "output_type": "execute_result",
          "data": {
            "text/plain": [
              "('tinyshakespeare.txt', <http.client.HTTPMessage at 0x7b45891e54e0>)"
            ]
          },
          "metadata": {},
          "execution_count": 4
        }
      ],
      "source": [
        "# Tiny Shakespeare\n",
        "url = \"https://raw.githubusercontent.com/karpathy/char-rnn/master/data/tinyshakespeare/input.txt\"\n",
        "file_name = \"tinyshakespeare.txt\"\n",
        "urllib.request.urlretrieve(url, file_name)"
      ]
    },
    {
      "cell_type": "code",
      "source": [
        "# Create vocab list of unique chars\n",
        "lines = open(\"tinyshakespeare.txt\", 'r').read()\n",
        "vocab = sorted(list(set(lines)))\n",
        "\n",
        "print(\"First 10 chars of vocab list:\", vocab[:10])\n",
        "print(\"Vocab size:\", len(vocab))"
      ],
      "metadata": {
        "colab": {
          "base_uri": "https://localhost:8080/"
        },
        "id": "Mv2bfoLd3dPj",
        "outputId": "008a1bfc-5e18-4544-fb98-f169b1cbc8df"
      },
      "execution_count": 5,
      "outputs": [
        {
          "output_type": "stream",
          "name": "stdout",
          "text": [
            "First 10 chars of vocab list: ['\\n', ' ', '!', '$', '&', \"'\", ',', '-', '.', '3']\n",
            "Vocab size: 65\n"
          ]
        }
      ]
    },
    {
      "cell_type": "code",
      "source": [
        "# Int to string\n",
        "itos = {i: ch for i, ch in enumerate(vocab)}\n",
        "\n",
        "# String to int\n",
        "stoi = {ch: i for i, ch in enumerate(vocab)}"
      ],
      "metadata": {
        "id": "0cxgUCV_4EtW"
      },
      "execution_count": 6,
      "outputs": []
    },
    {
      "cell_type": "code",
      "source": [
        "# Encoding and decoding\n",
        "def encode(s):\n",
        "    return [stoi[ch] for ch in s]\n",
        "\n",
        "def decode(l):\n",
        "    return ''.join([itos[i] for i in l])\n",
        "\n",
        "# Example\n",
        "print(encode(\"hello world\"))\n",
        "print(decode(encode(\"hello world\")))"
      ],
      "metadata": {
        "colab": {
          "base_uri": "https://localhost:8080/"
        },
        "id": "FpZia87w4QYA",
        "outputId": "0a98d69d-452b-4914-ed98-632bee5ab0d8"
      },
      "execution_count": 7,
      "outputs": [
        {
          "output_type": "stream",
          "name": "stdout",
          "text": [
            "[46, 43, 50, 50, 53, 1, 61, 53, 56, 50, 42]\n",
            "hello world\n"
          ]
        }
      ]
    },
    {
      "cell_type": "code",
      "source": [
        "# Convert dataset into a tensor\n",
        "dataset = torch.tensor(encode(lines), dtype=torch.int8)\n",
        "\n",
        "# Approximately 1 million tokens (chars)\n",
        "print(dataset.shape)"
      ],
      "metadata": {
        "colab": {
          "base_uri": "https://localhost:8080/"
        },
        "id": "vNQ0fUlR4e1u",
        "outputId": "bc5ab8fc-a7c9-44ef-fcac-ea62f06ad90a"
      },
      "execution_count": 8,
      "outputs": [
        {
          "output_type": "stream",
          "name": "stdout",
          "text": [
            "torch.Size([1115394])\n"
          ]
        }
      ]
    },
    {
      "cell_type": "code",
      "source": [
        "# Split dataset into train/val/test batches\n",
        "def get_batches(data, split, batch_size, context_window, config=MASTER_CONFIG):\n",
        "  # Train/val/test split = 0.8/0.1/0.1\n",
        "  train = data[:int(0.8 * len(data))]\n",
        "  val = data[int(0.8 * len(data)):int(0.9 * len(data))]\n",
        "  test = data[int(0.9 * len(data)):]\n",
        "\n",
        "  # Determine which batch to use\n",
        "  batch_data = train\n",
        "  if split == \"val\":\n",
        "    batch_data = val\n",
        "  elif split == \"test\":\n",
        "    batch_data = test\n",
        "\n",
        "  # batch_size number of random starting points in the data\n",
        "  ix = torch.randint(0, batch_data.size(0) - context_window - 1, (batch_size,))\n",
        "\n",
        "  # Input and target sequences\n",
        "  x = torch.stack([batch_data[i:i + context_window] for i in ix]).long()\n",
        "  y = torch.stack([batch_data[i + 1:i + context_window + 1] for i in ix]).long()\n",
        "\n",
        "  return x, y"
      ],
      "metadata": {
        "id": "bSARofwL4z31"
      },
      "execution_count": 9,
      "outputs": []
    },
    {
      "cell_type": "code",
      "source": [
        "# Obtain batches for training\n",
        "xs, ys = get_batches(dataset, \"train\", MASTER_CONFIG[\"batch_size\"], MASTER_CONFIG[\"context_window\"])\n",
        "\n",
        "# Decode batches\n",
        "decoded_samples = [(decode(xs[i].tolist()), decode(ys[i].tolist())) for i in range(len(xs))]\n",
        "\n",
        "# (sample, target)\n",
        "print(decoded_samples)"
      ],
      "metadata": {
        "colab": {
          "base_uri": "https://localhost:8080/"
        },
        "id": "zLCjwJTQ639k",
        "outputId": "ce71e0fd-e958-4e9d-9e11-aabfac6c6e87"
      },
      "execution_count": 10,
      "outputs": [
        {
          "output_type": "stream",
          "name": "stdout",
          "text": [
            "[(\"This orb o' the \", \"his orb o' the e\"), ('ry the Sixth hat', 'y the Sixth hath'), ('safe.\\n\\nDUKE OF A', 'afe.\\n\\nDUKE OF AU'), (' great charms\\nMi', 'great charms\\nMis'), ('hes from an\\ninch', 'es from an\\ninch '), (',\\nAnd, though mi', '\\nAnd, though min'), ('body couched in ', 'ody couched in a'), ('u cannot tent yo', ' cannot tent you')]\n"
          ]
        }
      ]
    },
    {
      "cell_type": "markdown",
      "source": [
        "# Loss"
      ],
      "metadata": {
        "id": "eTN_5v-R8z8w"
      }
    },
    {
      "cell_type": "code",
      "source": [
        "# Computes the mean loss for 10 batches for train/val\n",
        "@torch.no_grad()\n",
        "def evaluate_loss(model, config=MASTER_CONFIG):\n",
        "  out = {}\n",
        "\n",
        "  # Set the model to evaluation mode\n",
        "  model.eval()\n",
        "\n",
        "  # Iterate through train and val splits\n",
        "  for split in [\"train\", \"val\"]:\n",
        "    losses = []\n",
        "\n",
        "    # Get 10 sample batches\n",
        "    for _ in range(10):\n",
        "      # Input and target sequences\n",
        "      xb, yb = get_batches(dataset, split, config[\"batch_size\"], config[\"context_window\"])\n",
        "      # Run the model and calculate the loss\n",
        "      _, loss = model(xb, yb)\n",
        "      losses.append(loss.item())\n",
        "\n",
        "    out[split] = np.mean(losses)\n",
        "\n",
        "  # Set the model to train mode\n",
        "  model.train()\n",
        "\n",
        "  return out"
      ],
      "metadata": {
        "id": "GnsmkYd581G-"
      },
      "execution_count": 11,
      "outputs": []
    },
    {
      "cell_type": "markdown",
      "source": [
        "# Base Model"
      ],
      "metadata": {
        "id": "WtCxVy_N-_TA"
      }
    },
    {
      "cell_type": "code",
      "source": [
        "class BaseNN(nn.Module):\n",
        "  def __init__(self, config=MASTER_CONFIG):\n",
        "    super().__init__()\n",
        "    self.config = config\n",
        "\n",
        "    # Embedding layer to convert character indices to vectors\n",
        "    self.embedding = nn.Embedding(config[\"vocab_size\"], config[\"d_model\"])\n",
        "    # Linear layers\n",
        "    self.linear = nn.Sequential(\n",
        "        nn.Linear(config[\"d_model\"], config[\"d_model\"]),\n",
        "        nn.ReLU(),\n",
        "        nn.Linear(config[\"d_model\"], config[\"vocab_size\"])\n",
        "    )\n",
        "\n",
        "  def forward(self, idx, targets=None):\n",
        "    # Embedding layer converts character indices to vectors\n",
        "    x = self.embedding(idx)\n",
        "    # Linear layers\n",
        "    logits = self.linear(x)\n",
        "\n",
        "    # If there are targets, calculate and return the cross entropy loss\n",
        "    if targets is not None:\n",
        "      loss = F.cross_entropy(logits.view(-1, self.config[\"vocab_size\"]), targets.view(-1))\n",
        "      return logits, loss\n",
        "\n",
        "    return logits"
      ],
      "metadata": {
        "id": "lVMDgNc---26"
      },
      "execution_count": 31,
      "outputs": []
    },
    {
      "cell_type": "code",
      "source": [
        "# Initialize model\n",
        "model = BaseNN(MASTER_CONFIG)\n",
        "print(\"Model parameters:\", sum(p.numel() for p in model.parameters()))\n",
        "\n",
        "# Adam optimizer\n",
        "optimizer = torch.optim.Adam(model.parameters())"
      ],
      "metadata": {
        "colab": {
          "base_uri": "https://localhost:8080/"
        },
        "id": "Mn-kzPncELWo",
        "outputId": "5e448cae-024e-4b82-af8b-69da3009482f"
      },
      "execution_count": 20,
      "outputs": [
        {
          "output_type": "stream",
          "name": "stdout",
          "text": [
            "Model parameters: 33217\n"
          ]
        }
      ]
    },
    {
      "cell_type": "code",
      "source": [
        "# Calculate sample logits and loss\n",
        "xs, ys = get_batches(dataset, \"train\", MASTER_CONFIG[\"batch_size\"], MASTER_CONFIG[\"context_window\"])\n",
        "logits, loss = model(xs, ys)\n",
        "\n",
        "print(\"Logits shape:\", logits.shape)\n",
        "print(\"Loss:\", loss.item())"
      ],
      "metadata": {
        "colab": {
          "base_uri": "https://localhost:8080/"
        },
        "id": "ukpkn_GAFIX4",
        "outputId": "8b1e3f55-7f40-4074-8a75-3d69614c7d74"
      },
      "execution_count": 21,
      "outputs": [
        {
          "output_type": "stream",
          "name": "stdout",
          "text": [
            "Logits shape: torch.Size([32, 16, 65])\n",
            "Loss: 4.174921035766602\n"
          ]
        }
      ]
    },
    {
      "cell_type": "code",
      "source": [
        "# Training loop\n",
        "def train(model, optimizer, scheduler=None, config=MASTER_CONFIG, print_logs=False):\n",
        "  losses = []\n",
        "  start_time = time.time()\n",
        "\n",
        "  # Iterate through epochs\n",
        "  for epoch in range(config[\"epochs\"]):\n",
        "    # Zero out gradients\n",
        "    optimizer.zero_grad()\n",
        "\n",
        "    # Get training batches\n",
        "    xs, ys = get_batches(dataset, \"train\", config[\"batch_size\"], config[\"context_window\"])\n",
        "    # Run the model and calculate the loss\n",
        "    logits, loss = model(xs, targets=ys)\n",
        "    # Backpropagate the loss\n",
        "    loss.backward()\n",
        "    # Step the optimizer\n",
        "    optimizer.step()\n",
        "\n",
        "    # If there's a learning rate scheduler, adjust the learning rate\n",
        "    if scheduler:\n",
        "      scheduler.step()\n",
        "\n",
        "    # Log progress\n",
        "    if epoch % config[\"log_interval\"] == 0:\n",
        "      # Calculate batch time\n",
        "      batch_time = time.time() - start_time\n",
        "\n",
        "      # Evaluate loss\n",
        "      x = evaluate_loss(model)\n",
        "      losses += [x]\n",
        "\n",
        "      # Print progress\n",
        "      if print_logs:\n",
        "        print(f\"Epoch: {epoch} | Train loss: {x['train']:0.3f} | Val loss: {x['val']:0.3f} | Time: {batch_time:0.3f} | ETA in sec {batch_time * (config['epochs'] - epoch) / config['log_interval']:0.3f}\")\n",
        "\n",
        "      # Reset timer\n",
        "      start_time = time.time()\n",
        "\n",
        "      # Print learning rate\n",
        "      if scheduler:\n",
        "        print(\"Learning rate:\", scheduler.get_last_lr())\n",
        "\n",
        "  print(\"Val loss:\", losses[-1][\"val\"])\n",
        "\n",
        "  return pd.DataFrame(losses).plot()"
      ],
      "metadata": {
        "id": "XqRFF7nCdkhn"
      },
      "execution_count": 29,
      "outputs": []
    },
    {
      "cell_type": "code",
      "source": [
        "# Reinit model and optimizer\n",
        "model = BaseNN(MASTER_CONFIG)\n",
        "optimizer = torch.optim.Adam(model.parameters())\n",
        "\n",
        "# Train model\n",
        "train(model, optimizer, print_logs=True)"
      ],
      "metadata": {
        "id": "H520DI11fj7u",
        "outputId": "927c4d57-52f0-47d6-bd55-885dcb9ebfb4",
        "colab": {
          "base_uri": "https://localhost:8080/",
          "height": 1000
        }
      },
      "execution_count": 32,
      "outputs": [
        {
          "output_type": "stream",
          "name": "stdout",
          "text": [
            "Epoch: 0 | Train loss: 4.117 | Val loss: 4.115 | Time: 0.007 | ETA in sec 0.733\n",
            "Epoch: 10 | Train loss: 3.575 | Val loss: 3.592 | Time: 0.050 | ETA in sec 4.903\n",
            "Epoch: 20 | Train loss: 3.252 | Val loss: 3.188 | Time: 0.073 | ETA in sec 7.158\n",
            "Epoch: 30 | Train loss: 2.967 | Val loss: 2.970 | Time: 0.077 | ETA in sec 7.446\n",
            "Epoch: 40 | Train loss: 2.803 | Val loss: 2.899 | Time: 0.074 | ETA in sec 7.136\n",
            "Epoch: 50 | Train loss: 2.795 | Val loss: 2.778 | Time: 0.077 | ETA in sec 7.302\n",
            "Epoch: 60 | Train loss: 2.718 | Val loss: 2.655 | Time: 0.078 | ETA in sec 7.366\n",
            "Epoch: 70 | Train loss: 2.701 | Val loss: 2.639 | Time: 0.070 | ETA in sec 6.547\n",
            "Epoch: 80 | Train loss: 2.558 | Val loss: 2.772 | Time: 0.076 | ETA in sec 6.950\n",
            "Epoch: 90 | Train loss: 2.611 | Val loss: 2.675 | Time: 0.078 | ETA in sec 7.111\n",
            "Epoch: 100 | Train loss: 2.611 | Val loss: 2.693 | Time: 0.071 | ETA in sec 6.362\n",
            "Epoch: 110 | Train loss: 2.551 | Val loss: 2.607 | Time: 0.069 | ETA in sec 6.184\n",
            "Epoch: 120 | Train loss: 2.590 | Val loss: 2.596 | Time: 0.075 | ETA in sec 6.580\n",
            "Epoch: 130 | Train loss: 2.534 | Val loss: 2.606 | Time: 0.093 | ETA in sec 8.089\n",
            "Epoch: 140 | Train loss: 2.471 | Val loss: 2.592 | Time: 0.069 | ETA in sec 5.910\n",
            "Epoch: 150 | Train loss: 2.509 | Val loss: 2.530 | Time: 0.083 | ETA in sec 7.023\n",
            "Epoch: 160 | Train loss: 2.532 | Val loss: 2.530 | Time: 0.070 | ETA in sec 5.862\n",
            "Epoch: 170 | Train loss: 2.517 | Val loss: 2.661 | Time: 0.072 | ETA in sec 5.936\n",
            "Epoch: 180 | Train loss: 2.534 | Val loss: 2.631 | Time: 0.071 | ETA in sec 5.860\n",
            "Epoch: 190 | Train loss: 2.587 | Val loss: 2.617 | Time: 0.073 | ETA in sec 5.925\n",
            "Epoch: 200 | Train loss: 2.550 | Val loss: 2.541 | Time: 0.077 | ETA in sec 6.174\n",
            "Epoch: 210 | Train loss: 2.479 | Val loss: 2.565 | Time: 0.075 | ETA in sec 5.944\n",
            "Epoch: 220 | Train loss: 2.602 | Val loss: 2.494 | Time: 0.070 | ETA in sec 5.429\n",
            "Epoch: 230 | Train loss: 2.524 | Val loss: 2.552 | Time: 0.088 | ETA in sec 6.761\n",
            "Epoch: 240 | Train loss: 2.546 | Val loss: 2.604 | Time: 0.081 | ETA in sec 6.151\n",
            "Epoch: 250 | Train loss: 2.498 | Val loss: 2.553 | Time: 0.070 | ETA in sec 5.284\n",
            "Epoch: 260 | Train loss: 2.506 | Val loss: 2.615 | Time: 0.075 | ETA in sec 5.556\n",
            "Epoch: 270 | Train loss: 2.496 | Val loss: 2.500 | Time: 0.073 | ETA in sec 5.356\n",
            "Epoch: 280 | Train loss: 2.601 | Val loss: 2.585 | Time: 0.076 | ETA in sec 5.495\n",
            "Epoch: 290 | Train loss: 2.534 | Val loss: 2.614 | Time: 0.072 | ETA in sec 5.101\n",
            "Epoch: 300 | Train loss: 2.532 | Val loss: 2.505 | Time: 0.077 | ETA in sec 5.392\n",
            "Epoch: 310 | Train loss: 2.512 | Val loss: 2.546 | Time: 0.078 | ETA in sec 5.395\n",
            "Epoch: 320 | Train loss: 2.516 | Val loss: 2.564 | Time: 0.076 | ETA in sec 5.176\n",
            "Epoch: 330 | Train loss: 2.478 | Val loss: 2.595 | Time: 0.072 | ETA in sec 4.795\n",
            "Epoch: 340 | Train loss: 2.450 | Val loss: 2.520 | Time: 0.062 | ETA in sec 4.111\n",
            "Epoch: 350 | Train loss: 2.547 | Val loss: 2.557 | Time: 0.053 | ETA in sec 3.447\n",
            "Epoch: 360 | Train loss: 2.525 | Val loss: 2.567 | Time: 0.048 | ETA in sec 3.052\n",
            "Epoch: 370 | Train loss: 2.472 | Val loss: 2.531 | Time: 0.052 | ETA in sec 3.271\n",
            "Epoch: 380 | Train loss: 2.506 | Val loss: 2.497 | Time: 0.053 | ETA in sec 3.285\n",
            "Epoch: 390 | Train loss: 2.516 | Val loss: 2.516 | Time: 0.048 | ETA in sec 2.914\n",
            "Epoch: 400 | Train loss: 2.482 | Val loss: 2.528 | Time: 0.047 | ETA in sec 2.807\n",
            "Epoch: 410 | Train loss: 2.451 | Val loss: 2.551 | Time: 0.049 | ETA in sec 2.877\n",
            "Epoch: 420 | Train loss: 2.588 | Val loss: 2.525 | Time: 0.053 | ETA in sec 3.070\n",
            "Epoch: 430 | Train loss: 2.488 | Val loss: 2.548 | Time: 0.049 | ETA in sec 2.799\n",
            "Epoch: 440 | Train loss: 2.604 | Val loss: 2.500 | Time: 0.048 | ETA in sec 2.716\n",
            "Epoch: 450 | Train loss: 2.562 | Val loss: 2.516 | Time: 0.047 | ETA in sec 2.565\n",
            "Epoch: 460 | Train loss: 2.427 | Val loss: 2.552 | Time: 0.053 | ETA in sec 2.846\n",
            "Epoch: 470 | Train loss: 2.513 | Val loss: 2.562 | Time: 0.052 | ETA in sec 2.776\n",
            "Epoch: 480 | Train loss: 2.515 | Val loss: 2.561 | Time: 0.047 | ETA in sec 2.446\n",
            "Epoch: 490 | Train loss: 2.395 | Val loss: 2.458 | Time: 0.054 | ETA in sec 2.779\n",
            "Epoch: 500 | Train loss: 2.483 | Val loss: 2.492 | Time: 0.051 | ETA in sec 2.542\n",
            "Epoch: 510 | Train loss: 2.510 | Val loss: 2.497 | Time: 0.049 | ETA in sec 2.414\n",
            "Epoch: 520 | Train loss: 2.444 | Val loss: 2.511 | Time: 0.049 | ETA in sec 2.375\n",
            "Epoch: 530 | Train loss: 2.511 | Val loss: 2.462 | Time: 0.057 | ETA in sec 2.679\n",
            "Epoch: 540 | Train loss: 2.480 | Val loss: 2.519 | Time: 0.050 | ETA in sec 2.305\n",
            "Epoch: 550 | Train loss: 2.492 | Val loss: 2.537 | Time: 0.049 | ETA in sec 2.209\n",
            "Epoch: 560 | Train loss: 2.465 | Val loss: 2.494 | Time: 0.047 | ETA in sec 2.046\n",
            "Epoch: 570 | Train loss: 2.471 | Val loss: 2.505 | Time: 0.054 | ETA in sec 2.339\n",
            "Epoch: 580 | Train loss: 2.475 | Val loss: 2.522 | Time: 0.049 | ETA in sec 2.059\n",
            "Epoch: 590 | Train loss: 2.512 | Val loss: 2.528 | Time: 0.048 | ETA in sec 1.972\n",
            "Epoch: 600 | Train loss: 2.524 | Val loss: 2.574 | Time: 0.048 | ETA in sec 1.902\n",
            "Epoch: 610 | Train loss: 2.499 | Val loss: 2.515 | Time: 0.054 | ETA in sec 2.088\n",
            "Epoch: 620 | Train loss: 2.432 | Val loss: 2.548 | Time: 0.054 | ETA in sec 2.038\n",
            "Epoch: 630 | Train loss: 2.512 | Val loss: 2.527 | Time: 0.046 | ETA in sec 1.719\n",
            "Epoch: 640 | Train loss: 2.452 | Val loss: 2.579 | Time: 0.050 | ETA in sec 1.785\n",
            "Epoch: 650 | Train loss: 2.443 | Val loss: 2.569 | Time: 0.060 | ETA in sec 2.094\n",
            "Epoch: 660 | Train loss: 2.446 | Val loss: 2.478 | Time: 0.047 | ETA in sec 1.588\n",
            "Epoch: 670 | Train loss: 2.538 | Val loss: 2.527 | Time: 0.048 | ETA in sec 1.589\n",
            "Epoch: 680 | Train loss: 2.482 | Val loss: 2.506 | Time: 0.047 | ETA in sec 1.501\n",
            "Epoch: 690 | Train loss: 2.451 | Val loss: 2.485 | Time: 0.051 | ETA in sec 1.569\n",
            "Epoch: 700 | Train loss: 2.534 | Val loss: 2.489 | Time: 0.048 | ETA in sec 1.443\n",
            "Epoch: 710 | Train loss: 2.496 | Val loss: 2.534 | Time: 0.049 | ETA in sec 1.425\n",
            "Epoch: 720 | Train loss: 2.546 | Val loss: 2.497 | Time: 0.048 | ETA in sec 1.356\n",
            "Epoch: 730 | Train loss: 2.484 | Val loss: 2.519 | Time: 0.056 | ETA in sec 1.505\n",
            "Epoch: 740 | Train loss: 2.545 | Val loss: 2.499 | Time: 0.048 | ETA in sec 1.258\n",
            "Epoch: 750 | Train loss: 2.502 | Val loss: 2.502 | Time: 0.047 | ETA in sec 1.180\n",
            "Epoch: 760 | Train loss: 2.503 | Val loss: 2.548 | Time: 0.048 | ETA in sec 1.156\n",
            "Epoch: 770 | Train loss: 2.430 | Val loss: 2.550 | Time: 0.057 | ETA in sec 1.308\n",
            "Epoch: 780 | Train loss: 2.446 | Val loss: 2.538 | Time: 0.050 | ETA in sec 1.090\n",
            "Epoch: 790 | Train loss: 2.520 | Val loss: 2.488 | Time: 0.051 | ETA in sec 1.074\n",
            "Epoch: 800 | Train loss: 2.508 | Val loss: 2.537 | Time: 0.059 | ETA in sec 1.176\n",
            "Epoch: 810 | Train loss: 2.475 | Val loss: 2.458 | Time: 0.052 | ETA in sec 0.995\n",
            "Epoch: 820 | Train loss: 2.503 | Val loss: 2.531 | Time: 0.050 | ETA in sec 0.895\n",
            "Epoch: 830 | Train loss: 2.461 | Val loss: 2.510 | Time: 0.050 | ETA in sec 0.852\n",
            "Epoch: 840 | Train loss: 2.456 | Val loss: 2.468 | Time: 0.053 | ETA in sec 0.854\n",
            "Epoch: 850 | Train loss: 2.463 | Val loss: 2.467 | Time: 0.049 | ETA in sec 0.740\n",
            "Epoch: 860 | Train loss: 2.484 | Val loss: 2.507 | Time: 0.048 | ETA in sec 0.668\n",
            "Epoch: 870 | Train loss: 2.425 | Val loss: 2.481 | Time: 0.050 | ETA in sec 0.646\n",
            "Epoch: 880 | Train loss: 2.495 | Val loss: 2.573 | Time: 0.053 | ETA in sec 0.630\n",
            "Epoch: 890 | Train loss: 2.487 | Val loss: 2.477 | Time: 0.055 | ETA in sec 0.609\n",
            "Epoch: 900 | Train loss: 2.425 | Val loss: 2.499 | Time: 0.052 | ETA in sec 0.515\n",
            "Epoch: 910 | Train loss: 2.456 | Val loss: 2.520 | Time: 0.048 | ETA in sec 0.436\n",
            "Epoch: 920 | Train loss: 2.450 | Val loss: 2.542 | Time: 0.048 | ETA in sec 0.384\n",
            "Epoch: 930 | Train loss: 2.461 | Val loss: 2.431 | Time: 0.047 | ETA in sec 0.331\n",
            "Epoch: 940 | Train loss: 2.440 | Val loss: 2.541 | Time: 0.047 | ETA in sec 0.280\n",
            "Epoch: 950 | Train loss: 2.482 | Val loss: 2.541 | Time: 0.058 | ETA in sec 0.288\n",
            "Epoch: 960 | Train loss: 2.424 | Val loss: 2.520 | Time: 0.058 | ETA in sec 0.232\n",
            "Epoch: 970 | Train loss: 2.452 | Val loss: 2.546 | Time: 0.050 | ETA in sec 0.149\n",
            "Epoch: 980 | Train loss: 2.423 | Val loss: 2.535 | Time: 0.063 | ETA in sec 0.126\n",
            "Epoch: 990 | Train loss: 2.512 | Val loss: 2.484 | Time: 0.051 | ETA in sec 0.051\n",
            "Val loss: 2.483811116218567\n"
          ]
        },
        {
          "output_type": "execute_result",
          "data": {
            "text/plain": [
              "<Axes: >"
            ]
          },
          "metadata": {},
          "execution_count": 32
        },
        {
          "output_type": "display_data",
          "data": {
            "text/plain": [
              "<Figure size 640x480 with 1 Axes>"
            ],
            "image/png": "[encoded data removed]"
          },
          "metadata": {}
        }
      ]
    },
    {
      "cell_type": "markdown",
      "source": [
        "# Generating Text"
      ],
      "metadata": {
        "id": "0SiL2Ckbh_qR"
      }
    },
    {
      "cell_type": "code",
      "source": [
        "# Generate text using the model\n",
        "def generate(model, config=MASTER_CONFIG, num_texts=5, max_new_tokens=30):\n",
        "  # Initialize with zeros = '\\n'\n",
        "  idx = torch.zeros(num_texts, 1).long()\n",
        "\n",
        "  for _ in range(max_new_tokens):\n",
        "    # Call the model\n",
        "    logits = model(idx[:, -config[\"context_window\"]:])\n",
        "    # Get the newest logits: [all batches, last time step, all logits]\n",
        "    last_time_step_logits = logits[:, -1, :]\n",
        "    # Softmax probabilities\n",
        "    p = F.softmax(last_time_step_logits, dim=-1)\n",
        "    # Get the next token from the probabilities\n",
        "    idx_next = torch.multinomial(p, num_samples=1)\n",
        "    # Append the token\n",
        "    idx = torch.cat([idx, idx_next], dim=-1)\n",
        "\n",
        "  # Return the decoded tokens\n",
        "  return [decode(x) for x in idx.tolist()]"
      ],
      "metadata": {
        "id": "OVIHhzEeh-Be"
      },
      "execution_count": 52,
      "outputs": []
    },
    {
      "cell_type": "code",
      "source": [
        "generate(model)"
      ],
      "metadata": {
        "id": "fFNg6Gwvjv39",
        "outputId": "283ace64-8f4b-4582-a633-2c4c33278363",
        "colab": {
          "base_uri": "https://localhost:8080/"
        }
      },
      "execution_count": 53,
      "outputs": [
        {
          "output_type": "execute_result",
          "data": {
            "text/plain": [
              "['\\nAMESos oofid;\\nThin empthacel f',\n",
              " \"\\nAna cou ofo'sos;\\n\\nOner yolirt,\",\n",
              " \"\\nNIstondwig exent'dsty tht,\\n\\nAn\",\n",
              " '\\nJUTEit CHo ns, lou me cck, ht,',\n",
              " '\\nAlinge chainaiva owiscigh acth']"
            ]
          },
          "metadata": {},
          "execution_count": 53
        }
      ]
    }
  ],
  "metadata": {
    "language_info": {
      "name": "python"
    },
    "colab": {
      "provenance": []
    },
    "kernelspec": {
      "name": "python3",
      "display_name": "Python 3"
    }
  },
  "nbformat": 4,
  "nbformat_minor": 0
}